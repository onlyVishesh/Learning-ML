{
 "cells": [
  {
   "cell_type": "code",
   "execution_count": 1,
   "id": "b070666c",
   "metadata": {},
   "outputs": [],
   "source": [
    "import pandas as pd"
   ]
  },
  {
   "cell_type": "code",
   "execution_count": 2,
   "id": "6121f023",
   "metadata": {},
   "outputs": [],
   "source": [
    "df = pd.read_csv(\"Marks.csv\")"
   ]
  },
  {
   "cell_type": "code",
   "execution_count": 3,
   "id": "fb8b80d4",
   "metadata": {},
   "outputs": [
    {
     "data": {
      "text/html": [
       "<div>\n",
       "<style scoped>\n",
       "    .dataframe tbody tr th:only-of-type {\n",
       "        vertical-align: middle;\n",
       "    }\n",
       "\n",
       "    .dataframe tbody tr th {\n",
       "        vertical-align: top;\n",
       "    }\n",
       "\n",
       "    .dataframe thead th {\n",
       "        text-align: right;\n",
       "    }\n",
       "</style>\n",
       "<table border=\"1\" class=\"dataframe\">\n",
       "  <thead>\n",
       "    <tr style=\"text-align: right;\">\n",
       "      <th></th>\n",
       "      <th>Name</th>\n",
       "      <th>Vishesh</th>\n",
       "      <th>Vibhav</th>\n",
       "      <th>Sumit</th>\n",
       "      <th>Rohit</th>\n",
       "      <th>Tushar</th>\n",
       "    </tr>\n",
       "  </thead>\n",
       "  <tbody>\n",
       "    <tr>\n",
       "      <th>0</th>\n",
       "      <td>Electronic</td>\n",
       "      <td>89</td>\n",
       "      <td>95</td>\n",
       "      <td>15</td>\n",
       "      <td>59.0</td>\n",
       "      <td>84</td>\n",
       "    </tr>\n",
       "    <tr>\n",
       "      <th>1</th>\n",
       "      <td>Maths</td>\n",
       "      <td>91</td>\n",
       "      <td>87</td>\n",
       "      <td>59</td>\n",
       "      <td>75.0</td>\n",
       "      <td>89</td>\n",
       "    </tr>\n",
       "    <tr>\n",
       "      <th>2</th>\n",
       "      <td>Chemistry</td>\n",
       "      <td>94</td>\n",
       "      <td>91</td>\n",
       "      <td>45</td>\n",
       "      <td>85.0</td>\n",
       "      <td>45</td>\n",
       "    </tr>\n",
       "    <tr>\n",
       "      <th>3</th>\n",
       "      <td>Machenical</td>\n",
       "      <td>94</td>\n",
       "      <td>89</td>\n",
       "      <td>74</td>\n",
       "      <td>79.0</td>\n",
       "      <td>81</td>\n",
       "    </tr>\n",
       "    <tr>\n",
       "      <th>4</th>\n",
       "      <td>Soft Skills</td>\n",
       "      <td>92</td>\n",
       "      <td>85</td>\n",
       "      <td>49</td>\n",
       "      <td>NaN</td>\n",
       "      <td>86</td>\n",
       "    </tr>\n",
       "  </tbody>\n",
       "</table>\n",
       "</div>"
      ],
      "text/plain": [
       "          Name  Vishesh  Vibhav  Sumit  Rohit  Tushar\n",
       "0   Electronic       89      95     15   59.0      84\n",
       "1        Maths       91      87     59   75.0      89\n",
       "2    Chemistry       94      91     45   85.0      45\n",
       "3   Machenical       94      89     74   79.0      81\n",
       "4  Soft Skills       92      85     49    NaN      86"
      ]
     },
     "execution_count": 3,
     "metadata": {},
     "output_type": "execute_result"
    }
   ],
   "source": [
    "df"
   ]
  },
  {
   "cell_type": "code",
   "execution_count": 4,
   "id": "8ea39c90",
   "metadata": {},
   "outputs": [],
   "source": [
    "def Count(columns):\n",
    "    dict={}\n",
    "    dict[\"stats\"]=\"Mean\"\n",
    "    for col in columns:\n",
    "        s=0\n",
    "        list1 = df[col].tolist()\n",
    "        n = len(list1)\n",
    "        for i in range(len(list1)):\n",
    "            s += 1\n",
    "        sum = s\n",
    "        dict[col] = sum\n",
    "    df1 = pd.DataFrame(dict,index = (1,1))\n",
    "    print(df1)\n",
    "    \n",
    "def Mean(columns):\n",
    "    dict={}\n",
    "    dict[\"stats\"]=\"Mean\"\n",
    "    for col in columns:\n",
    "        s=0\n",
    "        list2 = df[col].tolist()\n",
    "        n = len(list2)\n",
    "        for i in range(len(list2)):\n",
    "            s += list2[i]\n",
    "        mean = s/n\n",
    "        dict[col] = mean\n",
    "    df1 = pd.DataFrame(dict,index = (1,1))\n",
    "    print(df1)\n",
    "\n",
    "def Max(columns):\n",
    "    dict={}\n",
    "    dict[\"stats\"]=\"Max\"\n",
    "    for col in columns:\n",
    "        s=0\n",
    "        list3 = df[col].tolist()\n",
    "        n = len(list3)\n",
    "        a = list3[0]\n",
    "        for i in range(len(list3)):\n",
    "            if (a < list3[i]):\n",
    "                a = list3[i]\n",
    "        dict[col] = a\n",
    "    df1 = pd.DataFrame(dict,index = (1,1))\n",
    "    print(df1)\n",
    "    \n",
    "\n",
    "def Min(columns):\n",
    "    dict={}\n",
    "    dict[\"stats\"]=\"Min\"\n",
    "    for col in columns:\n",
    "        s=0\n",
    "        list4 = df[col].tolist()\n",
    "        n = len(list4)\n",
    "        a = list4[0]\n",
    "        for i in range(len(list4)):\n",
    "            if (a>list4[i]):\n",
    "                a = list4[i]\n",
    "        dict[col] = a\n",
    "    df1 = pd.DataFrame(dict,index = (1,1))\n",
    "    print(df1)\n",
    "    \n",
    "    \n",
    "def Std(columns):\n",
    "    print(\"standard deviation\")\n",
    "    print(df.std(),\"\\n\")\n"
   ]
  },
  {
   "cell_type": "code",
   "execution_count": 5,
   "id": "ae7c83c2",
   "metadata": {},
   "outputs": [],
   "source": [
    "def Describe(df):\n",
    "    columns = df.columns.tolist()\n",
    "    dtypes = df.dtypes.to_dict()\n",
    "    for keys in dtypes:\n",
    "        if dtypes[keys] == object:\n",
    "            columns.remove(keys)\n",
    "    Count(columns)\n",
    "    Max(columns)\n",
    "    Min(columns)\n",
    "    Mean(columns)\n",
    "        "
   ]
  },
  {
   "cell_type": "code",
   "execution_count": 6,
   "id": "938eb969",
   "metadata": {},
   "outputs": [
    {
     "name": "stdout",
     "output_type": "stream",
     "text": [
      "  stats  Vishesh  Vibhav  Sumit  Rohit  Tushar\n",
      "1  Mean        5       5      5      5       5\n",
      "1  Mean        5       5      5      5       5\n",
      "  stats  Vishesh  Vibhav  Sumit  Rohit  Tushar\n",
      "1   Max       94      95     74   85.0      89\n",
      "1   Max       94      95     74   85.0      89\n",
      "  stats  Vishesh  Vibhav  Sumit  Rohit  Tushar\n",
      "1   Min       89      85     15   59.0      45\n",
      "1   Min       89      85     15   59.0      45\n",
      "  stats  Vishesh  Vibhav  Sumit  Rohit  Tushar\n",
      "1  Mean     92.0    89.4   48.4    NaN    77.0\n",
      "1  Mean     92.0    89.4   48.4    NaN    77.0\n"
     ]
    }
   ],
   "source": [
    "Describe(df)"
   ]
  },
  {
   "cell_type": "code",
   "execution_count": null,
   "id": "d3af1cdd",
   "metadata": {},
   "outputs": [],
   "source": []
  }
 ],
 "metadata": {
  "kernelspec": {
   "display_name": "Python 3 (ipykernel)",
   "language": "python",
   "name": "python3"
  },
  "language_info": {
   "codemirror_mode": {
    "name": "ipython",
    "version": 3
   },
   "file_extension": ".py",
   "mimetype": "text/x-python",
   "name": "python",
   "nbconvert_exporter": "python",
   "pygments_lexer": "ipython3",
   "version": "3.9.13"
  }
 },
 "nbformat": 4,
 "nbformat_minor": 5
}
