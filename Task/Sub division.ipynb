{
 "cells": [
  {
   "cell_type": "code",
   "execution_count": 1,
   "id": "3529f24f",
   "metadata": {},
   "outputs": [],
   "source": [
    "import numpy as np\n",
    "import pandas as pd"
   ]
  },
  {
   "cell_type": "code",
   "execution_count": 2,
   "id": "35e73d98",
   "metadata": {},
   "outputs": [],
   "source": [
    "# Importing Iris dataset to dataframe\n",
    "\n",
    "df = pd.read_csv(\"iris.csv\")"
   ]
  },
  {
   "cell_type": "code",
   "execution_count": 3,
   "id": "8d6a4fee",
   "metadata": {},
   "outputs": [],
   "source": [
    "# Removing non-meaningful data from dataset\n",
    "\n",
    "columns = df.columns.tolist()\n",
    "dtypes = df.dtypes.to_dict()\n",
    "\n",
    "for keys in dtypes:\n",
    "    if dtypes[keys] == object:\n",
    "        columns.remove(keys)"
   ]
  },
  {
   "cell_type": "code",
   "execution_count": 4,
   "id": "ef82fc15",
   "metadata": {},
   "outputs": [],
   "source": [
    "# Basic function to split dataset\n",
    "\n",
    "def train_test_split(x,y,n):\n",
    "    \n",
    "    if n >1:\n",
    "        n /= 100\n",
    "        \n",
    "    m = len(y)\n",
    "    mTop = round(m*n)\n",
    "    mBottom = m-mTop\n",
    "    \n",
    "    x_train = x.head(mTop).to_numpy()\n",
    "    x_test = x.tail(mBottom).to_numpy()\n",
    "    y_train = y.head(mTop).to_numpy()\n",
    "    y_test = y.tail(mBottom).to_numpy()\n",
    "    \n",
    "    return x_train, x_test, y_train, y_test\n"
   ]
  },
  {
   "cell_type": "code",
   "execution_count": 5,
   "id": "31e24696",
   "metadata": {},
   "outputs": [
    {
     "name": "stdout",
     "output_type": "stream",
     "text": [
      "['sepal.length', 'sepal.width', 'petal.length', 'petal.width']\n",
      "Enter name of column from below list:   sepal.length\n"
     ]
    }
   ],
   "source": [
    "# Dividing dataset in to part\n",
    "\n",
    "df = df[columns]\n",
    "print(columns)\n",
    "\n",
    "column = input(\"Enter name of column from below list:   \")\n",
    "y = df[column]\n",
    "x = df.drop([column], axis=1)\n"
   ]
  },
  {
   "cell_type": "code",
   "execution_count": 6,
   "id": "aedd7213",
   "metadata": {},
   "outputs": [
    {
     "name": "stdout",
     "output_type": "stream",
     "text": [
      "Enter how much data you want to use for train purpose:   .79\n"
     ]
    }
   ],
   "source": [
    "n = float(input(\"Enter how much data you want to use for train purpose:   \"))"
   ]
  },
  {
   "cell_type": "code",
   "execution_count": 7,
   "id": "89ba192b",
   "metadata": {},
   "outputs": [],
   "source": [
    "# Taking output from function\n",
    "\n",
    "a,b,c,d = train_test_split(x,y,n)"
   ]
  },
  {
   "cell_type": "code",
   "execution_count": 8,
   "id": "9d0b85f7",
   "metadata": {},
   "outputs": [
    {
     "data": {
      "text/plain": [
       "array([[3.5, 1.4, 0.2],\n",
       "       [3. , 1.4, 0.2],\n",
       "       [3.2, 1.3, 0.2],\n",
       "       [3.1, 1.5, 0.2],\n",
       "       [3.6, 1.4, 0.2],\n",
       "       [3.9, 1.7, 0.4],\n",
       "       [3.4, 1.4, 0.3],\n",
       "       [3.4, 1.5, 0.2],\n",
       "       [2.9, 1.4, 0.2],\n",
       "       [3.1, 1.5, 0.1],\n",
       "       [3.7, 1.5, 0.2],\n",
       "       [3.4, 1.6, 0.2],\n",
       "       [3. , 1.4, 0.1],\n",
       "       [3. , 1.1, 0.1],\n",
       "       [4. , 1.2, 0.2],\n",
       "       [4.4, 1.5, 0.4],\n",
       "       [3.9, 1.3, 0.4],\n",
       "       [3.5, 1.4, 0.3],\n",
       "       [3.8, 1.7, 0.3],\n",
       "       [3.8, 1.5, 0.3],\n",
       "       [3.4, 1.7, 0.2],\n",
       "       [3.7, 1.5, 0.4],\n",
       "       [3.6, 1. , 0.2],\n",
       "       [3.3, 1.7, 0.5],\n",
       "       [3.4, 1.9, 0.2],\n",
       "       [3. , 1.6, 0.2],\n",
       "       [3.4, 1.6, 0.4],\n",
       "       [3.5, 1.5, 0.2],\n",
       "       [3.4, 1.4, 0.2],\n",
       "       [3.2, 1.6, 0.2],\n",
       "       [3.1, 1.6, 0.2],\n",
       "       [3.4, 1.5, 0.4],\n",
       "       [4.1, 1.5, 0.1],\n",
       "       [4.2, 1.4, 0.2],\n",
       "       [3.1, 1.5, 0.2],\n",
       "       [3.2, 1.2, 0.2],\n",
       "       [3.5, 1.3, 0.2],\n",
       "       [3.6, 1.4, 0.1],\n",
       "       [3. , 1.3, 0.2],\n",
       "       [3.4, 1.5, 0.2],\n",
       "       [3.5, 1.3, 0.3],\n",
       "       [2.3, 1.3, 0.3],\n",
       "       [3.2, 1.3, 0.2],\n",
       "       [3.5, 1.6, 0.6],\n",
       "       [3.8, 1.9, 0.4],\n",
       "       [3. , 1.4, 0.3],\n",
       "       [3.8, 1.6, 0.2],\n",
       "       [3.2, 1.4, 0.2],\n",
       "       [3.7, 1.5, 0.2],\n",
       "       [3.3, 1.4, 0.2],\n",
       "       [3.2, 4.7, 1.4],\n",
       "       [3.2, 4.5, 1.5],\n",
       "       [3.1, 4.9, 1.5],\n",
       "       [2.3, 4. , 1.3],\n",
       "       [2.8, 4.6, 1.5],\n",
       "       [2.8, 4.5, 1.3],\n",
       "       [3.3, 4.7, 1.6],\n",
       "       [2.4, 3.3, 1. ],\n",
       "       [2.9, 4.6, 1.3],\n",
       "       [2.7, 3.9, 1.4],\n",
       "       [2. , 3.5, 1. ],\n",
       "       [3. , 4.2, 1.5],\n",
       "       [2.2, 4. , 1. ],\n",
       "       [2.9, 4.7, 1.4],\n",
       "       [2.9, 3.6, 1.3],\n",
       "       [3.1, 4.4, 1.4],\n",
       "       [3. , 4.5, 1.5],\n",
       "       [2.7, 4.1, 1. ],\n",
       "       [2.2, 4.5, 1.5],\n",
       "       [2.5, 3.9, 1.1],\n",
       "       [3.2, 4.8, 1.8],\n",
       "       [2.8, 4. , 1.3],\n",
       "       [2.5, 4.9, 1.5],\n",
       "       [2.8, 4.7, 1.2],\n",
       "       [2.9, 4.3, 1.3],\n",
       "       [3. , 4.4, 1.4],\n",
       "       [2.8, 4.8, 1.4],\n",
       "       [3. , 5. , 1.7],\n",
       "       [2.9, 4.5, 1.5],\n",
       "       [2.6, 3.5, 1. ],\n",
       "       [2.4, 3.8, 1.1],\n",
       "       [2.4, 3.7, 1. ],\n",
       "       [2.7, 3.9, 1.2],\n",
       "       [2.7, 5.1, 1.6],\n",
       "       [3. , 4.5, 1.5],\n",
       "       [3.4, 4.5, 1.6],\n",
       "       [3.1, 4.7, 1.5],\n",
       "       [2.3, 4.4, 1.3],\n",
       "       [3. , 4.1, 1.3],\n",
       "       [2.5, 4. , 1.3],\n",
       "       [2.6, 4.4, 1.2],\n",
       "       [3. , 4.6, 1.4],\n",
       "       [2.6, 4. , 1.2],\n",
       "       [2.3, 3.3, 1. ],\n",
       "       [2.7, 4.2, 1.3],\n",
       "       [3. , 4.2, 1.2],\n",
       "       [2.9, 4.2, 1.3],\n",
       "       [2.9, 4.3, 1.3],\n",
       "       [2.5, 3. , 1.1],\n",
       "       [2.8, 4.1, 1.3],\n",
       "       [3.3, 6. , 2.5],\n",
       "       [2.7, 5.1, 1.9],\n",
       "       [3. , 5.9, 2.1],\n",
       "       [2.9, 5.6, 1.8],\n",
       "       [3. , 5.8, 2.2],\n",
       "       [3. , 6.6, 2.1],\n",
       "       [2.5, 4.5, 1.7],\n",
       "       [2.9, 6.3, 1.8],\n",
       "       [2.5, 5.8, 1.8],\n",
       "       [3.6, 6.1, 2.5],\n",
       "       [3.2, 5.1, 2. ],\n",
       "       [2.7, 5.3, 1.9],\n",
       "       [3. , 5.5, 2.1],\n",
       "       [2.5, 5. , 2. ],\n",
       "       [2.8, 5.1, 2.4],\n",
       "       [3.2, 5.3, 2.3],\n",
       "       [3. , 5.5, 1.8],\n",
       "       [3.8, 6.7, 2.2]])"
      ]
     },
     "execution_count": 8,
     "metadata": {},
     "output_type": "execute_result"
    }
   ],
   "source": [
    "a"
   ]
  },
  {
   "cell_type": "code",
   "execution_count": 9,
   "id": "728a226c",
   "metadata": {},
   "outputs": [
    {
     "data": {
      "text/plain": [
       "array([[2.6, 6.9, 2.3],\n",
       "       [2.2, 5. , 1.5],\n",
       "       [3.2, 5.7, 2.3],\n",
       "       [2.8, 4.9, 2. ],\n",
       "       [2.8, 6.7, 2. ],\n",
       "       [2.7, 4.9, 1.8],\n",
       "       [3.3, 5.7, 2.1],\n",
       "       [3.2, 6. , 1.8],\n",
       "       [2.8, 4.8, 1.8],\n",
       "       [3. , 4.9, 1.8],\n",
       "       [2.8, 5.6, 2.1],\n",
       "       [3. , 5.8, 1.6],\n",
       "       [2.8, 6.1, 1.9],\n",
       "       [3.8, 6.4, 2. ],\n",
       "       [2.8, 5.6, 2.2],\n",
       "       [2.8, 5.1, 1.5],\n",
       "       [2.6, 5.6, 1.4],\n",
       "       [3. , 6.1, 2.3],\n",
       "       [3.4, 5.6, 2.4],\n",
       "       [3.1, 5.5, 1.8],\n",
       "       [3. , 4.8, 1.8],\n",
       "       [3.1, 5.4, 2.1],\n",
       "       [3.1, 5.6, 2.4],\n",
       "       [3.1, 5.1, 2.3],\n",
       "       [2.7, 5.1, 1.9],\n",
       "       [3.2, 5.9, 2.3],\n",
       "       [3.3, 5.7, 2.5],\n",
       "       [3. , 5.2, 2.3],\n",
       "       [2.5, 5. , 1.9],\n",
       "       [3. , 5.2, 2. ],\n",
       "       [3.4, 5.4, 2.3],\n",
       "       [3. , 5.1, 1.8]])"
      ]
     },
     "execution_count": 9,
     "metadata": {},
     "output_type": "execute_result"
    }
   ],
   "source": [
    "b"
   ]
  },
  {
   "cell_type": "code",
   "execution_count": 10,
   "id": "d3172b76",
   "metadata": {},
   "outputs": [
    {
     "data": {
      "text/plain": [
       "array([5.1, 4.9, 4.7, 4.6, 5. , 5.4, 4.6, 5. , 4.4, 4.9, 5.4, 4.8, 4.8,\n",
       "       4.3, 5.8, 5.7, 5.4, 5.1, 5.7, 5.1, 5.4, 5.1, 4.6, 5.1, 4.8, 5. ,\n",
       "       5. , 5.2, 5.2, 4.7, 4.8, 5.4, 5.2, 5.5, 4.9, 5. , 5.5, 4.9, 4.4,\n",
       "       5.1, 5. , 4.5, 4.4, 5. , 5.1, 4.8, 5.1, 4.6, 5.3, 5. , 7. , 6.4,\n",
       "       6.9, 5.5, 6.5, 5.7, 6.3, 4.9, 6.6, 5.2, 5. , 5.9, 6. , 6.1, 5.6,\n",
       "       6.7, 5.6, 5.8, 6.2, 5.6, 5.9, 6.1, 6.3, 6.1, 6.4, 6.6, 6.8, 6.7,\n",
       "       6. , 5.7, 5.5, 5.5, 5.8, 6. , 5.4, 6. , 6.7, 6.3, 5.6, 5.5, 5.5,\n",
       "       6.1, 5.8, 5. , 5.6, 5.7, 5.7, 6.2, 5.1, 5.7, 6.3, 5.8, 7.1, 6.3,\n",
       "       6.5, 7.6, 4.9, 7.3, 6.7, 7.2, 6.5, 6.4, 6.8, 5.7, 5.8, 6.4, 6.5,\n",
       "       7.7])"
      ]
     },
     "execution_count": 10,
     "metadata": {},
     "output_type": "execute_result"
    }
   ],
   "source": [
    "c"
   ]
  },
  {
   "cell_type": "code",
   "execution_count": 11,
   "id": "d889b62c",
   "metadata": {},
   "outputs": [
    {
     "data": {
      "text/plain": [
       "array([7.7, 6. , 6.9, 5.6, 7.7, 6.3, 6.7, 7.2, 6.2, 6.1, 6.4, 7.2, 7.4,\n",
       "       7.9, 6.4, 6.3, 6.1, 7.7, 6.3, 6.4, 6. , 6.9, 6.7, 6.9, 5.8, 6.8,\n",
       "       6.7, 6.7, 6.3, 6.5, 6.2, 5.9])"
      ]
     },
     "execution_count": 11,
     "metadata": {},
     "output_type": "execute_result"
    }
   ],
   "source": [
    "d"
   ]
  },
  {
   "cell_type": "code",
   "execution_count": null,
   "id": "756398e5",
   "metadata": {},
   "outputs": [],
   "source": []
  }
 ],
 "metadata": {
  "kernelspec": {
   "display_name": "Python 3 (ipykernel)",
   "language": "python",
   "name": "python3"
  },
  "language_info": {
   "codemirror_mode": {
    "name": "ipython",
    "version": 3
   },
   "file_extension": ".py",
   "mimetype": "text/x-python",
   "name": "python",
   "nbconvert_exporter": "python",
   "pygments_lexer": "ipython3",
   "version": "3.9.13"
  }
 },
 "nbformat": 4,
 "nbformat_minor": 5
}
