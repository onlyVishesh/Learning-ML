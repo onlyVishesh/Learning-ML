{
 "cells": [
  {
   "cell_type": "code",
   "execution_count": 1,
   "id": "46d8dac5",
   "metadata": {},
   "outputs": [],
   "source": [
    "import numpy as np"
   ]
  },
  {
   "cell_type": "markdown",
   "id": "4ff01aee",
   "metadata": {},
   "source": [
    "##### Searching element"
   ]
  },
  {
   "cell_type": "code",
   "execution_count": 2,
   "id": "8b3359b9",
   "metadata": {},
   "outputs": [
    {
     "name": "stdout",
     "output_type": "stream",
     "text": [
      "Enter the element:   2\n",
      "2 is present in array\n"
     ]
    }
   ],
   "source": [
    "arr = np.array([1,2,33,4,54,4,5,44,332,443,42,543])\n",
    "c = int(input(\"Enter the element:   \"))\n",
    "for i in arr:\n",
    "   if c==i:\n",
    "      break\n",
    "if c== i:\n",
    "   print(f\"{c} is present in array\")\n",
    "else:\n",
    "   print(f\"{c} is not present in array\")"
   ]
  },
  {
   "cell_type": "markdown",
   "id": "fa32967a",
   "metadata": {},
   "source": [
    "##### Largest and smallest element"
   ]
  },
  {
   "cell_type": "code",
   "execution_count": 3,
   "id": "7ed227d5",
   "metadata": {},
   "outputs": [
    {
     "name": "stdout",
     "output_type": "stream",
     "text": [
      "largest element is 78\n",
      "smallest element is -41\n"
     ]
    }
   ],
   "source": [
    "arr = np.array([1,5,3,75,43,-41,3,78,42])\n",
    "max = min = arr[0]\n",
    "for i in arr:\n",
    "   if max<i:\n",
    "      max=i\n",
    "   if min>i:\n",
    "      min=i\n",
    "print(f\"largest element is {max}\")\n",
    "print(f\"smallest element is {min}\")"
   ]
  },
  {
   "cell_type": "markdown",
   "id": "f6d42103",
   "metadata": {},
   "source": [
    "##### Reversed array"
   ]
  },
  {
   "cell_type": "code",
   "execution_count": 4,
   "id": "f1e70630",
   "metadata": {},
   "outputs": [
    {
     "name": "stdout",
     "output_type": "stream",
     "text": [
      "[ 75.  66. 423.  68.  34.  43.  78.  53.  32.   1.]\n"
     ]
    }
   ],
   "source": [
    "arr = np.array([1,32,53,78,43,34,68,423,66,75])\n",
    "arr1 = np.array([])\n",
    "for i in range((len(arr)-1),-1,-1):\n",
    "    arr1 = np.append(arr1,int(arr[i]))\n",
    "print(arr1)"
   ]
  },
  {
   "cell_type": "markdown",
   "id": "07132481",
   "metadata": {},
   "source": [
    "##### Rotating kth position"
   ]
  },
  {
   "cell_type": "code",
   "execution_count": 5,
   "id": "3961eda3",
   "metadata": {},
   "outputs": [
    {
     "name": "stdout",
     "output_type": "stream",
     "text": [
      "3\n",
      "423 66 75 1 32 53 78 43 34 68 "
     ]
    }
   ],
   "source": [
    "k = int(input())\n",
    "for i in range(len(arr)-k,len(arr)):\n",
    "    print(arr[i],end=\" \")\n",
    "for i in range(0,len(arr)-k):\n",
    "    print(arr[i],end=\" \")"
   ]
  },
  {
   "cell_type": "code",
   "execution_count": null,
   "id": "0b32967e",
   "metadata": {},
   "outputs": [],
   "source": []
  }
 ],
 "metadata": {
  "kernelspec": {
   "display_name": "Python 3 (ipykernel)",
   "language": "python",
   "name": "python3"
  },
  "language_info": {
   "codemirror_mode": {
    "name": "ipython",
    "version": 3
   },
   "file_extension": ".py",
   "mimetype": "text/x-python",
   "name": "python",
   "nbconvert_exporter": "python",
   "pygments_lexer": "ipython3",
   "version": "3.9.13"
  }
 },
 "nbformat": 4,
 "nbformat_minor": 5
}
