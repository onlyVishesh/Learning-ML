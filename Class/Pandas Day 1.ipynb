{
 "cells": [
  {
   "cell_type": "markdown",
   "id": "cfe85fcd",
   "metadata": {},
   "source": [
    "# Pandas"
   ]
  },
  {
   "cell_type": "code",
   "execution_count": 1,
   "id": "08a0ade0",
   "metadata": {},
   "outputs": [],
   "source": [
    "import pandas as pd"
   ]
  },
  {
   "cell_type": "markdown",
   "id": "abb0a21a",
   "metadata": {},
   "source": [
    "## Series"
   ]
  },
  {
   "cell_type": "code",
   "execution_count": 2,
   "id": "994c77aa",
   "metadata": {},
   "outputs": [
    {
     "name": "stdout",
     "output_type": "stream",
     "text": [
      "0    Vishesh\n",
      "1     Tushar\n",
      "2      Rohit\n",
      "3      Sakat\n",
      "dtype: object\n"
     ]
    }
   ],
   "source": [
    "# Creating a Series using list with default indexing\n",
    "names = [\"Vishesh\",\"Tushar\",\"Rohit\",\"Sakat\"]\n",
    "ser1 = pd.Series(names)\n",
    "print(ser1)"
   ]
  },
  {
   "cell_type": "code",
   "execution_count": 3,
   "id": "1d77e699",
   "metadata": {},
   "outputs": [
    {
     "name": "stdout",
     "output_type": "stream",
     "text": [
      "1    Vishesh\n",
      "2     Tushar\n",
      "3      Rohit\n",
      "4      Sakat\n",
      "dtype: object \n",
      "\n",
      "10    Vishesh\n",
      "20     Tushar\n",
      "30      Rohit\n",
      "59      Sakat\n",
      "dtype: object\n"
     ]
    }
   ],
   "source": [
    "# Creating a Series using list specific indexing\n",
    "names = [\"Vishesh\",\"Tushar\",\"Rohit\",\"Sakat\"]\n",
    "ser1 = pd.Series(names,index=range(1,5))\n",
    "print(ser1,\"\\n\")\n",
    "\n",
    "ser1 = pd.Series(names,index=[10,20,30,59])\n",
    "print(ser1)"
   ]
  },
  {
   "cell_type": "code",
   "execution_count": 4,
   "id": "b93aa5a0",
   "metadata": {},
   "outputs": [
    {
     "data": {
      "text/plain": [
       "pandas.core.series.Series"
      ]
     },
     "execution_count": 4,
     "metadata": {},
     "output_type": "execute_result"
    }
   ],
   "source": [
    "type(ser1)"
   ]
  },
  {
   "cell_type": "code",
   "execution_count": 5,
   "id": "2ff116d5",
   "metadata": {},
   "outputs": [
    {
     "name": "stdout",
     "output_type": "stream",
     "text": [
      "1st    Vishesh\n",
      "2nd      Sakat\n",
      "3        Sumit\n",
      "4th      Rohit\n",
      "dtype: object\n"
     ]
    }
   ],
   "source": [
    "# Creating a series using dictionary\n",
    "rank = {\"1st\":\"Vishesh\",\"2nd\":\"Sakat\",\"3\":\"Sumit\",\"4th\":\"Rohit\"}\n",
    "ser2 = pd.Series(rank)\n",
    "print(ser2)"
   ]
  },
  {
   "cell_type": "code",
   "execution_count": 6,
   "id": "1bb04867",
   "metadata": {},
   "outputs": [
    {
     "name": "stdout",
     "output_type": "stream",
     "text": [
      "1st    [Vishesh, V]\n",
      "2nd      [Sakat, P]\n",
      "3rd      [Sumit, R]\n",
      "4th      [Rohit, M]\n",
      "dtype: object\n"
     ]
    }
   ],
   "source": [
    "rank = {\"1st\":[\"Vishesh\" , \"V\"],\"2nd\":[\"Sakat\",\"P\"],\"3rd\":[\"Sumit\",\"R\"],\"4th\":[\"Rohit\",\"M\"]}\n",
    "ser2 = pd.Series(rank)\n",
    "print(ser2)"
   ]
  },
  {
   "cell_type": "markdown",
   "id": "df2ca9d0",
   "metadata": {},
   "source": [
    "## Dataframe"
   ]
  },
  {
   "cell_type": "code",
   "execution_count": 26,
   "id": "dbd82e91",
   "metadata": {},
   "outputs": [
    {
     "name": "stdout",
     "output_type": "stream",
     "text": [
      "         Day  Max Temperature  Min Temperature  Wind speed          Event\n",
      "0     Sunday               18               10          10           Rain\n",
      "1     Monday               19               12          14  Thunderstrome\n",
      "2    Tuesday               20               13           8           Rain\n",
      "3  Wednesday               20               11          12            Fog\n",
      "4    Thusday               22               15          32          Smoge\n",
      "5     Friday               23               16          12          Sunny\n",
      "6   Saturday               17               10          19            Fog\n"
     ]
    }
   ],
   "source": [
    "# Creating Dataframe with default indexing\n",
    "maxTemp = [18,19,20,20,22,23,17]\n",
    "minTemp = [10,12,13,11,15,16,10]\n",
    "event = [\"Rain\",\"Thunderstrome\",\"Rain\",\"Fog\",\"Smoge\",\"Sunny\",\"Fog\"]\n",
    "days = [\"Sunday\",\"Monday\",\"Tuesday\",\"Wednesday\",\"Thusday\",\"Friday\",\"Saturday\"]\n",
    "windSpeed = [10,14,8,12,32,12,19]\n",
    "\n",
    "weather = {\"Day\":days,\"Max Temperature\":maxTemp,\"Min Temperature\":minTemp,\"Wind speed\":windSpeed,\"Event\":event}\n",
    "df1 = pd.DataFrame(weather)\n",
    "print(df1)"
   ]
  },
  {
   "cell_type": "markdown",
   "id": "1010d523",
   "metadata": {},
   "source": [
    "## Exporting a dataframe to CSV file"
   ]
  },
  {
   "cell_type": "code",
   "execution_count": 27,
   "id": "249d55ab",
   "metadata": {},
   "outputs": [],
   "source": [
    "df1.to_csv(\"Weather data.csv\")"
   ]
  },
  {
   "cell_type": "markdown",
   "id": "d53706af",
   "metadata": {},
   "source": [
    "## Import CSV file"
   ]
  },
  {
   "cell_type": "code",
   "execution_count": 28,
   "id": "648020b2",
   "metadata": {
    "scrolled": true
   },
   "outputs": [
    {
     "data": {
      "text/html": [
       "<div>\n",
       "<style scoped>\n",
       "    .dataframe tbody tr th:only-of-type {\n",
       "        vertical-align: middle;\n",
       "    }\n",
       "\n",
       "    .dataframe tbody tr th {\n",
       "        vertical-align: top;\n",
       "    }\n",
       "\n",
       "    .dataframe thead th {\n",
       "        text-align: right;\n",
       "    }\n",
       "</style>\n",
       "<table border=\"1\" class=\"dataframe\">\n",
       "  <thead>\n",
       "    <tr style=\"text-align: right;\">\n",
       "      <th></th>\n",
       "      <th>Unnamed: 0</th>\n",
       "      <th>Day</th>\n",
       "      <th>Max Temperature</th>\n",
       "      <th>Min Temperature</th>\n",
       "      <th>Wind speed</th>\n",
       "      <th>Event</th>\n",
       "    </tr>\n",
       "  </thead>\n",
       "  <tbody>\n",
       "    <tr>\n",
       "      <th>0</th>\n",
       "      <td>0</td>\n",
       "      <td>Sunday</td>\n",
       "      <td>18</td>\n",
       "      <td>10</td>\n",
       "      <td>10</td>\n",
       "      <td>Rain</td>\n",
       "    </tr>\n",
       "    <tr>\n",
       "      <th>1</th>\n",
       "      <td>1</td>\n",
       "      <td>Monday</td>\n",
       "      <td>19</td>\n",
       "      <td>12</td>\n",
       "      <td>14</td>\n",
       "      <td>Thunderstrome</td>\n",
       "    </tr>\n",
       "    <tr>\n",
       "      <th>2</th>\n",
       "      <td>2</td>\n",
       "      <td>Tuesday</td>\n",
       "      <td>20</td>\n",
       "      <td>13</td>\n",
       "      <td>8</td>\n",
       "      <td>Rain</td>\n",
       "    </tr>\n",
       "    <tr>\n",
       "      <th>3</th>\n",
       "      <td>3</td>\n",
       "      <td>Wednesday</td>\n",
       "      <td>20</td>\n",
       "      <td>11</td>\n",
       "      <td>12</td>\n",
       "      <td>Fog</td>\n",
       "    </tr>\n",
       "    <tr>\n",
       "      <th>4</th>\n",
       "      <td>4</td>\n",
       "      <td>Thusday</td>\n",
       "      <td>22</td>\n",
       "      <td>15</td>\n",
       "      <td>32</td>\n",
       "      <td>Smoge</td>\n",
       "    </tr>\n",
       "    <tr>\n",
       "      <th>5</th>\n",
       "      <td>5</td>\n",
       "      <td>Friday</td>\n",
       "      <td>23</td>\n",
       "      <td>16</td>\n",
       "      <td>12</td>\n",
       "      <td>Sunny</td>\n",
       "    </tr>\n",
       "    <tr>\n",
       "      <th>6</th>\n",
       "      <td>6</td>\n",
       "      <td>Saturday</td>\n",
       "      <td>17</td>\n",
       "      <td>10</td>\n",
       "      <td>19</td>\n",
       "      <td>Fog</td>\n",
       "    </tr>\n",
       "  </tbody>\n",
       "</table>\n",
       "</div>"
      ],
      "text/plain": [
       "   Unnamed: 0        Day  Max Temperature  Min Temperature  Wind speed  \\\n",
       "0           0     Sunday               18               10          10   \n",
       "1           1     Monday               19               12          14   \n",
       "2           2    Tuesday               20               13           8   \n",
       "3           3  Wednesday               20               11          12   \n",
       "4           4    Thusday               22               15          32   \n",
       "5           5     Friday               23               16          12   \n",
       "6           6   Saturday               17               10          19   \n",
       "\n",
       "           Event  \n",
       "0           Rain  \n",
       "1  Thunderstrome  \n",
       "2           Rain  \n",
       "3            Fog  \n",
       "4          Smoge  \n",
       "5          Sunny  \n",
       "6            Fog  "
      ]
     },
     "execution_count": 28,
     "metadata": {},
     "output_type": "execute_result"
    }
   ],
   "source": [
    "df2 = pd.read_csv(\"weather data.csv\")\n",
    "df2"
   ]
  },
  {
   "cell_type": "code",
   "execution_count": 32,
   "id": "278da791",
   "metadata": {},
   "outputs": [
    {
     "data": {
      "text/html": [
       "<div>\n",
       "<style scoped>\n",
       "    .dataframe tbody tr th:only-of-type {\n",
       "        vertical-align: middle;\n",
       "    }\n",
       "\n",
       "    .dataframe tbody tr th {\n",
       "        vertical-align: top;\n",
       "    }\n",
       "\n",
       "    .dataframe thead th {\n",
       "        text-align: right;\n",
       "    }\n",
       "</style>\n",
       "<table border=\"1\" class=\"dataframe\">\n",
       "  <thead>\n",
       "    <tr style=\"text-align: right;\">\n",
       "      <th></th>\n",
       "      <th>Day</th>\n",
       "      <th>Max Temperature</th>\n",
       "      <th>Min Temperature</th>\n",
       "      <th>Wind speed</th>\n",
       "      <th>Event</th>\n",
       "    </tr>\n",
       "  </thead>\n",
       "  <tbody>\n",
       "    <tr>\n",
       "      <th>0</th>\n",
       "      <td>Sunday</td>\n",
       "      <td>18</td>\n",
       "      <td>10</td>\n",
       "      <td>10</td>\n",
       "      <td>Rain</td>\n",
       "    </tr>\n",
       "    <tr>\n",
       "      <th>1</th>\n",
       "      <td>Monday</td>\n",
       "      <td>19</td>\n",
       "      <td>12</td>\n",
       "      <td>14</td>\n",
       "      <td>Thunderstrome</td>\n",
       "    </tr>\n",
       "    <tr>\n",
       "      <th>2</th>\n",
       "      <td>Tuesday</td>\n",
       "      <td>20</td>\n",
       "      <td>13</td>\n",
       "      <td>8</td>\n",
       "      <td>Rain</td>\n",
       "    </tr>\n",
       "    <tr>\n",
       "      <th>3</th>\n",
       "      <td>Wednesday</td>\n",
       "      <td>20</td>\n",
       "      <td>11</td>\n",
       "      <td>12</td>\n",
       "      <td>Fog</td>\n",
       "    </tr>\n",
       "    <tr>\n",
       "      <th>4</th>\n",
       "      <td>Thusday</td>\n",
       "      <td>22</td>\n",
       "      <td>15</td>\n",
       "      <td>32</td>\n",
       "      <td>Smoge</td>\n",
       "    </tr>\n",
       "    <tr>\n",
       "      <th>5</th>\n",
       "      <td>Friday</td>\n",
       "      <td>23</td>\n",
       "      <td>16</td>\n",
       "      <td>12</td>\n",
       "      <td>Sunny</td>\n",
       "    </tr>\n",
       "    <tr>\n",
       "      <th>6</th>\n",
       "      <td>Saturday</td>\n",
       "      <td>17</td>\n",
       "      <td>10</td>\n",
       "      <td>19</td>\n",
       "      <td>Fog</td>\n",
       "    </tr>\n",
       "  </tbody>\n",
       "</table>\n",
       "</div>"
      ],
      "text/plain": [
       "         Day  Max Temperature  Min Temperature  Wind speed          Event\n",
       "0     Sunday               18               10          10           Rain\n",
       "1     Monday               19               12          14  Thunderstrome\n",
       "2    Tuesday               20               13           8           Rain\n",
       "3  Wednesday               20               11          12            Fog\n",
       "4    Thusday               22               15          32          Smoge\n",
       "5     Friday               23               16          12          Sunny\n",
       "6   Saturday               17               10          19            Fog"
      ]
     },
     "execution_count": 32,
     "metadata": {},
     "output_type": "execute_result"
    }
   ],
   "source": [
    "df2=df2[['Day','Max Temperature','Min Temperature','Wind speed','Event']]\n",
    "df2"
   ]
  },
  {
   "cell_type": "code",
   "execution_count": 10,
   "id": "989cb82b",
   "metadata": {},
   "outputs": [
    {
     "data": {
      "text/plain": [
       "(7, 6)"
      ]
     },
     "execution_count": 10,
     "metadata": {},
     "output_type": "execute_result"
    }
   ],
   "source": [
    "# Size of CSV\n",
    "df2.shape"
   ]
  },
  {
   "cell_type": "code",
   "execution_count": 11,
   "id": "7518e962",
   "metadata": {},
   "outputs": [
    {
     "name": "stdout",
     "output_type": "stream",
     "text": [
      "   Unnamed: 0     Day  Max Temperature  Min Temperature  Wind speed  \\\n",
      "0           0  Sunday               18               10          10   \n",
      "1           1  Monday               19               12          14   \n",
      "\n",
      "           Event  \n",
      "0           Rain  \n",
      "1  Thunderstrome   \n",
      "\n",
      "   Unnamed: 0       Day  Max Temperature  Min Temperature  Wind speed  Event\n",
      "5           5    Friday               23               16          12  Sunny\n",
      "6           6  Saturday               17               10          19    Fog\n"
     ]
    }
   ],
   "source": [
    "print(df2.head(2),\"\\n\")\n",
    "print(df2.tail(2))"
   ]
  },
  {
   "cell_type": "code",
   "execution_count": 12,
   "id": "17b93c2a",
   "metadata": {},
   "outputs": [
    {
     "data": {
      "text/plain": [
       "0             Rain\n",
       "1    Thunderstrome\n",
       "2             Rain\n",
       "3              Fog\n",
       "4            Smoge\n",
       "5            Sunny\n",
       "6              Fog\n",
       "Name: Event, dtype: object"
      ]
     },
     "execution_count": 12,
     "metadata": {},
     "output_type": "execute_result"
    }
   ],
   "source": [
    "df2[\"Event\"] # or df2.Event"
   ]
  },
  {
   "cell_type": "code",
   "execution_count": 13,
   "id": "37c4b90a",
   "metadata": {},
   "outputs": [
    {
     "data": {
      "text/html": [
       "<div>\n",
       "<style scoped>\n",
       "    .dataframe tbody tr th:only-of-type {\n",
       "        vertical-align: middle;\n",
       "    }\n",
       "\n",
       "    .dataframe tbody tr th {\n",
       "        vertical-align: top;\n",
       "    }\n",
       "\n",
       "    .dataframe thead th {\n",
       "        text-align: right;\n",
       "    }\n",
       "</style>\n",
       "<table border=\"1\" class=\"dataframe\">\n",
       "  <thead>\n",
       "    <tr style=\"text-align: right;\">\n",
       "      <th></th>\n",
       "      <th>Event</th>\n",
       "      <th>Max Temperature</th>\n",
       "    </tr>\n",
       "  </thead>\n",
       "  <tbody>\n",
       "    <tr>\n",
       "      <th>0</th>\n",
       "      <td>Rain</td>\n",
       "      <td>18</td>\n",
       "    </tr>\n",
       "    <tr>\n",
       "      <th>1</th>\n",
       "      <td>Thunderstrome</td>\n",
       "      <td>19</td>\n",
       "    </tr>\n",
       "    <tr>\n",
       "      <th>2</th>\n",
       "      <td>Rain</td>\n",
       "      <td>20</td>\n",
       "    </tr>\n",
       "    <tr>\n",
       "      <th>3</th>\n",
       "      <td>Fog</td>\n",
       "      <td>20</td>\n",
       "    </tr>\n",
       "    <tr>\n",
       "      <th>4</th>\n",
       "      <td>Smoge</td>\n",
       "      <td>22</td>\n",
       "    </tr>\n",
       "    <tr>\n",
       "      <th>5</th>\n",
       "      <td>Sunny</td>\n",
       "      <td>23</td>\n",
       "    </tr>\n",
       "    <tr>\n",
       "      <th>6</th>\n",
       "      <td>Fog</td>\n",
       "      <td>17</td>\n",
       "    </tr>\n",
       "  </tbody>\n",
       "</table>\n",
       "</div>"
      ],
      "text/plain": [
       "           Event  Max Temperature\n",
       "0           Rain               18\n",
       "1  Thunderstrome               19\n",
       "2           Rain               20\n",
       "3            Fog               20\n",
       "4          Smoge               22\n",
       "5          Sunny               23\n",
       "6            Fog               17"
      ]
     },
     "execution_count": 13,
     "metadata": {},
     "output_type": "execute_result"
    }
   ],
   "source": [
    "df2[[\"Event\", \"Max Temperature\"]]"
   ]
  },
  {
   "cell_type": "code",
   "execution_count": 14,
   "id": "5646c13e",
   "metadata": {},
   "outputs": [
    {
     "data": {
      "text/html": [
       "<div>\n",
       "<style scoped>\n",
       "    .dataframe tbody tr th:only-of-type {\n",
       "        vertical-align: middle;\n",
       "    }\n",
       "\n",
       "    .dataframe tbody tr th {\n",
       "        vertical-align: top;\n",
       "    }\n",
       "\n",
       "    .dataframe thead th {\n",
       "        text-align: right;\n",
       "    }\n",
       "</style>\n",
       "<table border=\"1\" class=\"dataframe\">\n",
       "  <thead>\n",
       "    <tr style=\"text-align: right;\">\n",
       "      <th></th>\n",
       "      <th>Unnamed: 0</th>\n",
       "      <th>Day</th>\n",
       "      <th>Max Temperature</th>\n",
       "      <th>Min Temperature</th>\n",
       "      <th>Wind speed</th>\n",
       "      <th>Event</th>\n",
       "    </tr>\n",
       "  </thead>\n",
       "  <tbody>\n",
       "    <tr>\n",
       "      <th>1</th>\n",
       "      <td>1</td>\n",
       "      <td>Monday</td>\n",
       "      <td>19</td>\n",
       "      <td>12</td>\n",
       "      <td>14</td>\n",
       "      <td>Thunderstrome</td>\n",
       "    </tr>\n",
       "    <tr>\n",
       "      <th>2</th>\n",
       "      <td>2</td>\n",
       "      <td>Tuesday</td>\n",
       "      <td>20</td>\n",
       "      <td>13</td>\n",
       "      <td>8</td>\n",
       "      <td>Rain</td>\n",
       "    </tr>\n",
       "    <tr>\n",
       "      <th>3</th>\n",
       "      <td>3</td>\n",
       "      <td>Wednesday</td>\n",
       "      <td>20</td>\n",
       "      <td>11</td>\n",
       "      <td>12</td>\n",
       "      <td>Fog</td>\n",
       "    </tr>\n",
       "  </tbody>\n",
       "</table>\n",
       "</div>"
      ],
      "text/plain": [
       "   Unnamed: 0        Day  Max Temperature  Min Temperature  Wind speed  \\\n",
       "1           1     Monday               19               12          14   \n",
       "2           2    Tuesday               20               13           8   \n",
       "3           3  Wednesday               20               11          12   \n",
       "\n",
       "           Event  \n",
       "1  Thunderstrome  \n",
       "2           Rain  \n",
       "3            Fog  "
      ]
     },
     "execution_count": 14,
     "metadata": {},
     "output_type": "execute_result"
    }
   ],
   "source": [
    "df2[1:4]"
   ]
  },
  {
   "cell_type": "markdown",
   "id": "06d08549",
   "metadata": {},
   "source": [
    "## Operations"
   ]
  },
  {
   "cell_type": "code",
   "execution_count": 15,
   "id": "358d2a53",
   "metadata": {},
   "outputs": [
    {
     "data": {
      "text/plain": [
       "Unnamed: 0                     6\n",
       "Day                    Wednesday\n",
       "Max Temperature               23\n",
       "Min Temperature               16\n",
       "Wind speed                    32\n",
       "Event              Thunderstrome\n",
       "dtype: object"
      ]
     },
     "execution_count": 15,
     "metadata": {},
     "output_type": "execute_result"
    }
   ],
   "source": [
    "df2.max()"
   ]
  },
  {
   "cell_type": "code",
   "execution_count": 16,
   "id": "135342a0",
   "metadata": {},
   "outputs": [
    {
     "data": {
      "text/plain": [
       "Max Temperature    23\n",
       "Wind speed         32\n",
       "dtype: int64"
      ]
     },
     "execution_count": 16,
     "metadata": {},
     "output_type": "execute_result"
    }
   ],
   "source": [
    "df2[[\"Max Temperature\",\"Wind speed\"]].max()"
   ]
  },
  {
   "cell_type": "code",
   "execution_count": 17,
   "id": "16b05136",
   "metadata": {},
   "outputs": [
    {
     "data": {
      "text/html": [
       "<div>\n",
       "<style scoped>\n",
       "    .dataframe tbody tr th:only-of-type {\n",
       "        vertical-align: middle;\n",
       "    }\n",
       "\n",
       "    .dataframe tbody tr th {\n",
       "        vertical-align: top;\n",
       "    }\n",
       "\n",
       "    .dataframe thead th {\n",
       "        text-align: right;\n",
       "    }\n",
       "</style>\n",
       "<table border=\"1\" class=\"dataframe\">\n",
       "  <thead>\n",
       "    <tr style=\"text-align: right;\">\n",
       "      <th></th>\n",
       "      <th>Unnamed: 0</th>\n",
       "      <th>Day</th>\n",
       "      <th>Max Temperature</th>\n",
       "      <th>Min Temperature</th>\n",
       "      <th>Wind speed</th>\n",
       "      <th>Event</th>\n",
       "    </tr>\n",
       "  </thead>\n",
       "  <tbody>\n",
       "    <tr>\n",
       "      <th>4</th>\n",
       "      <td>4</td>\n",
       "      <td>Thusday</td>\n",
       "      <td>22</td>\n",
       "      <td>15</td>\n",
       "      <td>32</td>\n",
       "      <td>Smoge</td>\n",
       "    </tr>\n",
       "    <tr>\n",
       "      <th>5</th>\n",
       "      <td>5</td>\n",
       "      <td>Friday</td>\n",
       "      <td>23</td>\n",
       "      <td>16</td>\n",
       "      <td>12</td>\n",
       "      <td>Sunny</td>\n",
       "    </tr>\n",
       "  </tbody>\n",
       "</table>\n",
       "</div>"
      ],
      "text/plain": [
       "   Unnamed: 0      Day  Max Temperature  Min Temperature  Wind speed  Event\n",
       "4           4  Thusday               22               15          32  Smoge\n",
       "5           5   Friday               23               16          12  Sunny"
      ]
     },
     "execution_count": 17,
     "metadata": {},
     "output_type": "execute_result"
    }
   ],
   "source": [
    "df2[df2[\"Max Temperature\"]>21]"
   ]
  },
  {
   "cell_type": "code",
   "execution_count": 19,
   "id": "b72d46a3",
   "metadata": {},
   "outputs": [
    {
     "data": {
      "text/html": [
       "<div>\n",
       "<style scoped>\n",
       "    .dataframe tbody tr th:only-of-type {\n",
       "        vertical-align: middle;\n",
       "    }\n",
       "\n",
       "    .dataframe tbody tr th {\n",
       "        vertical-align: top;\n",
       "    }\n",
       "\n",
       "    .dataframe thead th {\n",
       "        text-align: right;\n",
       "    }\n",
       "</style>\n",
       "<table border=\"1\" class=\"dataframe\">\n",
       "  <thead>\n",
       "    <tr style=\"text-align: right;\">\n",
       "      <th></th>\n",
       "      <th>Unnamed: 0</th>\n",
       "      <th>Max Temperature</th>\n",
       "      <th>Min Temperature</th>\n",
       "      <th>Wind speed</th>\n",
       "    </tr>\n",
       "  </thead>\n",
       "  <tbody>\n",
       "    <tr>\n",
       "      <th>count</th>\n",
       "      <td>7.000000</td>\n",
       "      <td>7.000000</td>\n",
       "      <td>7.000000</td>\n",
       "      <td>7.000000</td>\n",
       "    </tr>\n",
       "    <tr>\n",
       "      <th>mean</th>\n",
       "      <td>3.000000</td>\n",
       "      <td>19.857143</td>\n",
       "      <td>12.428571</td>\n",
       "      <td>15.285714</td>\n",
       "    </tr>\n",
       "    <tr>\n",
       "      <th>std</th>\n",
       "      <td>2.160247</td>\n",
       "      <td>2.115701</td>\n",
       "      <td>2.370453</td>\n",
       "      <td>8.138679</td>\n",
       "    </tr>\n",
       "    <tr>\n",
       "      <th>min</th>\n",
       "      <td>0.000000</td>\n",
       "      <td>17.000000</td>\n",
       "      <td>10.000000</td>\n",
       "      <td>8.000000</td>\n",
       "    </tr>\n",
       "    <tr>\n",
       "      <th>25%</th>\n",
       "      <td>1.500000</td>\n",
       "      <td>18.500000</td>\n",
       "      <td>10.500000</td>\n",
       "      <td>11.000000</td>\n",
       "    </tr>\n",
       "    <tr>\n",
       "      <th>50%</th>\n",
       "      <td>3.000000</td>\n",
       "      <td>20.000000</td>\n",
       "      <td>12.000000</td>\n",
       "      <td>12.000000</td>\n",
       "    </tr>\n",
       "    <tr>\n",
       "      <th>75%</th>\n",
       "      <td>4.500000</td>\n",
       "      <td>21.000000</td>\n",
       "      <td>14.000000</td>\n",
       "      <td>16.500000</td>\n",
       "    </tr>\n",
       "    <tr>\n",
       "      <th>max</th>\n",
       "      <td>6.000000</td>\n",
       "      <td>23.000000</td>\n",
       "      <td>16.000000</td>\n",
       "      <td>32.000000</td>\n",
       "    </tr>\n",
       "  </tbody>\n",
       "</table>\n",
       "</div>"
      ],
      "text/plain": [
       "       Unnamed: 0  Max Temperature  Min Temperature  Wind speed\n",
       "count    7.000000         7.000000         7.000000    7.000000\n",
       "mean     3.000000        19.857143        12.428571   15.285714\n",
       "std      2.160247         2.115701         2.370453    8.138679\n",
       "min      0.000000        17.000000        10.000000    8.000000\n",
       "25%      1.500000        18.500000        10.500000   11.000000\n",
       "50%      3.000000        20.000000        12.000000   12.000000\n",
       "75%      4.500000        21.000000        14.000000   16.500000\n",
       "max      6.000000        23.000000        16.000000   32.000000"
      ]
     },
     "execution_count": 19,
     "metadata": {},
     "output_type": "execute_result"
    }
   ],
   "source": [
    "df2.describe()"
   ]
  },
  {
   "cell_type": "code",
   "execution_count": 20,
   "id": "477c5b4f",
   "metadata": {},
   "outputs": [
    {
     "data": {
      "text/html": [
       "<div>\n",
       "<style scoped>\n",
       "    .dataframe tbody tr th:only-of-type {\n",
       "        vertical-align: middle;\n",
       "    }\n",
       "\n",
       "    .dataframe tbody tr th {\n",
       "        vertical-align: top;\n",
       "    }\n",
       "\n",
       "    .dataframe thead th {\n",
       "        text-align: right;\n",
       "    }\n",
       "</style>\n",
       "<table border=\"1\" class=\"dataframe\">\n",
       "  <thead>\n",
       "    <tr style=\"text-align: right;\">\n",
       "      <th></th>\n",
       "      <th>Unnamed: 0</th>\n",
       "      <th>Max Temperature</th>\n",
       "      <th>Min Temperature</th>\n",
       "      <th>Wind speed</th>\n",
       "      <th>Event</th>\n",
       "    </tr>\n",
       "    <tr>\n",
       "      <th>Day</th>\n",
       "      <th></th>\n",
       "      <th></th>\n",
       "      <th></th>\n",
       "      <th></th>\n",
       "      <th></th>\n",
       "    </tr>\n",
       "  </thead>\n",
       "  <tbody>\n",
       "    <tr>\n",
       "      <th>Sunday</th>\n",
       "      <td>0</td>\n",
       "      <td>18</td>\n",
       "      <td>10</td>\n",
       "      <td>10</td>\n",
       "      <td>Rain</td>\n",
       "    </tr>\n",
       "    <tr>\n",
       "      <th>Monday</th>\n",
       "      <td>1</td>\n",
       "      <td>19</td>\n",
       "      <td>12</td>\n",
       "      <td>14</td>\n",
       "      <td>Thunderstrome</td>\n",
       "    </tr>\n",
       "    <tr>\n",
       "      <th>Tuesday</th>\n",
       "      <td>2</td>\n",
       "      <td>20</td>\n",
       "      <td>13</td>\n",
       "      <td>8</td>\n",
       "      <td>Rain</td>\n",
       "    </tr>\n",
       "    <tr>\n",
       "      <th>Wednesday</th>\n",
       "      <td>3</td>\n",
       "      <td>20</td>\n",
       "      <td>11</td>\n",
       "      <td>12</td>\n",
       "      <td>Fog</td>\n",
       "    </tr>\n",
       "    <tr>\n",
       "      <th>Thusday</th>\n",
       "      <td>4</td>\n",
       "      <td>22</td>\n",
       "      <td>15</td>\n",
       "      <td>32</td>\n",
       "      <td>Smoge</td>\n",
       "    </tr>\n",
       "    <tr>\n",
       "      <th>Friday</th>\n",
       "      <td>5</td>\n",
       "      <td>23</td>\n",
       "      <td>16</td>\n",
       "      <td>12</td>\n",
       "      <td>Sunny</td>\n",
       "    </tr>\n",
       "    <tr>\n",
       "      <th>Saturday</th>\n",
       "      <td>6</td>\n",
       "      <td>17</td>\n",
       "      <td>10</td>\n",
       "      <td>19</td>\n",
       "      <td>Fog</td>\n",
       "    </tr>\n",
       "  </tbody>\n",
       "</table>\n",
       "</div>"
      ],
      "text/plain": [
       "           Unnamed: 0  Max Temperature  Min Temperature  Wind speed  \\\n",
       "Day                                                                   \n",
       "Sunday              0               18               10          10   \n",
       "Monday              1               19               12          14   \n",
       "Tuesday             2               20               13           8   \n",
       "Wednesday           3               20               11          12   \n",
       "Thusday             4               22               15          32   \n",
       "Friday              5               23               16          12   \n",
       "Saturday            6               17               10          19   \n",
       "\n",
       "                   Event  \n",
       "Day                       \n",
       "Sunday              Rain  \n",
       "Monday     Thunderstrome  \n",
       "Tuesday             Rain  \n",
       "Wednesday            Fog  \n",
       "Thusday            Smoge  \n",
       "Friday             Sunny  \n",
       "Saturday             Fog  "
      ]
     },
     "execution_count": 20,
     "metadata": {},
     "output_type": "execute_result"
    }
   ],
   "source": [
    "df2.set_index(\"Day\")"
   ]
  },
  {
   "cell_type": "code",
   "execution_count": 21,
   "id": "a30e7507",
   "metadata": {},
   "outputs": [
    {
     "name": "stdout",
     "output_type": "stream",
     "text": [
      "<class 'pandas.core.frame.DataFrame'>\n",
      "RangeIndex: 7 entries, 0 to 6\n",
      "Data columns (total 6 columns):\n",
      " #   Column           Non-Null Count  Dtype \n",
      "---  ------           --------------  ----- \n",
      " 0   Unnamed: 0       7 non-null      int64 \n",
      " 1   Day              7 non-null      object\n",
      " 2   Max Temperature  7 non-null      int64 \n",
      " 3   Min Temperature  7 non-null      int64 \n",
      " 4   Wind speed       7 non-null      int64 \n",
      " 5   Event            7 non-null      object\n",
      "dtypes: int64(4), object(2)\n",
      "memory usage: 464.0+ bytes\n"
     ]
    }
   ],
   "source": [
    "df2.info()"
   ]
  },
  {
   "cell_type": "code",
   "execution_count": 22,
   "id": "2bcffa63",
   "metadata": {},
   "outputs": [
    {
     "data": {
      "text/html": [
       "<div>\n",
       "<style scoped>\n",
       "    .dataframe tbody tr th:only-of-type {\n",
       "        vertical-align: middle;\n",
       "    }\n",
       "\n",
       "    .dataframe tbody tr th {\n",
       "        vertical-align: top;\n",
       "    }\n",
       "\n",
       "    .dataframe thead th {\n",
       "        text-align: right;\n",
       "    }\n",
       "</style>\n",
       "<table border=\"1\" class=\"dataframe\">\n",
       "  <thead>\n",
       "    <tr style=\"text-align: right;\">\n",
       "      <th></th>\n",
       "      <th>Unnamed: 0</th>\n",
       "      <th>Max Temperature</th>\n",
       "      <th>Min Temperature</th>\n",
       "      <th>Wind speed</th>\n",
       "    </tr>\n",
       "  </thead>\n",
       "  <tbody>\n",
       "    <tr>\n",
       "      <th>Unnamed: 0</th>\n",
       "      <td>1.000000</td>\n",
       "      <td>0.255264</td>\n",
       "      <td>0.325472</td>\n",
       "      <td>0.445543</td>\n",
       "    </tr>\n",
       "    <tr>\n",
       "      <th>Max Temperature</th>\n",
       "      <td>0.255264</td>\n",
       "      <td>1.000000</td>\n",
       "      <td>0.944753</td>\n",
       "      <td>0.235067</td>\n",
       "    </tr>\n",
       "    <tr>\n",
       "      <th>Min Temperature</th>\n",
       "      <td>0.325472</td>\n",
       "      <td>0.944753</td>\n",
       "      <td>1.000000</td>\n",
       "      <td>0.312238</td>\n",
       "    </tr>\n",
       "    <tr>\n",
       "      <th>Wind speed</th>\n",
       "      <td>0.445543</td>\n",
       "      <td>0.235067</td>\n",
       "      <td>0.312238</td>\n",
       "      <td>1.000000</td>\n",
       "    </tr>\n",
       "  </tbody>\n",
       "</table>\n",
       "</div>"
      ],
      "text/plain": [
       "                 Unnamed: 0  Max Temperature  Min Temperature  Wind speed\n",
       "Unnamed: 0         1.000000         0.255264         0.325472    0.445543\n",
       "Max Temperature    0.255264         1.000000         0.944753    0.235067\n",
       "Min Temperature    0.325472         0.944753         1.000000    0.312238\n",
       "Wind speed         0.445543         0.235067         0.312238    1.000000"
      ]
     },
     "execution_count": 22,
     "metadata": {},
     "output_type": "execute_result"
    }
   ],
   "source": [
    "df2.corr()"
   ]
  }
 ],
 "metadata": {
  "kernelspec": {
   "display_name": "Python 3 (ipykernel)",
   "language": "python",
   "name": "python3"
  },
  "language_info": {
   "codemirror_mode": {
    "name": "ipython",
    "version": 3
   },
   "file_extension": ".py",
   "mimetype": "text/x-python",
   "name": "python",
   "nbconvert_exporter": "python",
   "pygments_lexer": "ipython3",
   "version": "3.9.13"
  }
 },
 "nbformat": 4,
 "nbformat_minor": 5
}
