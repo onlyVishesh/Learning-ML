{
 "cells": [
  {
   "cell_type": "code",
   "execution_count": 7,
   "id": "57be353e",
   "metadata": {},
   "outputs": [
    {
     "name": "stdout",
     "output_type": "stream",
     "text": [
      "Hello World\n"
     ]
    }
   ],
   "source": [
    "print(\"Hello World\")"
   ]
  },
  {
   "cell_type": "code",
   "execution_count": 8,
   "id": "2c8df7eb",
   "metadata": {},
   "outputs": [
    {
     "data": {
      "text/plain": [
       "int"
      ]
     },
     "execution_count": 8,
     "metadata": {},
     "output_type": "execute_result"
    }
   ],
   "source": [
    "#To find type of datatype we us typr() function\n",
    "type(10)"
   ]
  },
  {
   "cell_type": "code",
   "execution_count": 9,
   "id": "995010df",
   "metadata": {},
   "outputs": [
    {
     "name": "stdout",
     "output_type": "stream",
     "text": [
      "11.428571428571429\n",
      "400\n",
      "3\n",
      "88\n",
      "37\n"
     ]
    }
   ],
   "source": [
    "# Storing value in x\n",
    "x=80\n",
    "# division operator\n",
    "print(x/7)\n",
    "# multiplication operation\n",
    "print(x*5)\n",
    "# modulus operator\n",
    "print(x%7)\n",
    "# addition operator\n",
    "print(x+8)\n",
    "# subtraction operation\n",
    "print(x-43)"
   ]
  },
  {
   "cell_type": "code",
   "execution_count": 10,
   "id": "24ed60b1",
   "metadata": {},
   "outputs": [
    {
     "name": "stdout",
     "output_type": "stream",
     "text": [
      "False\n"
     ]
    }
   ],
   "source": [
    "print(bool(0))"
   ]
  },
  {
   "cell_type": "code",
   "execution_count": 11,
   "id": "1ae31131",
   "metadata": {},
   "outputs": [
    {
     "name": "stdout",
     "output_type": "stream",
     "text": [
      "Vishesh\n",
      "Vishesh\n",
      "60\n",
      "60\n",
      "60.0\n",
      "60\n",
      "True\n"
     ]
    }
   ],
   "source": [
    "\n",
    "x=\"Vishesh\"\n",
    "print(x)\n",
    "print(str(x))\n",
    "# print(int(x)) gives error\n",
    "# print(bool(x)) gives error\n",
    "x=60\n",
    "print(x)\n",
    "print(int(x))\n",
    "print(float(x))\n",
    "print(str(x))\n",
    "print(bool(x))"
   ]
  },
  {
   "cell_type": "code",
   "execution_count": 12,
   "id": "6e95d607",
   "metadata": {},
   "outputs": [
    {
     "ename": "ValueError",
     "evalue": "invalid literal for int() with base 10: ''",
     "output_type": "error",
     "traceback": [
      "\u001b[0;31m---------------------------------------------------------------------------\u001b[0m",
      "\u001b[0;31mValueError\u001b[0m                                Traceback (most recent call last)",
      "Cell \u001b[0;32mIn[12], line 1\u001b[0m\n\u001b[0;32m----> 1\u001b[0m a \u001b[39m=\u001b[39m \u001b[39mint\u001b[39;49m(\u001b[39minput\u001b[39;49m(\u001b[39m\"\u001b[39;49m\u001b[39mEnter a value:   \u001b[39;49m\u001b[39m\"\u001b[39;49m))\n\u001b[1;32m      2\u001b[0m b \u001b[39m=\u001b[39m \u001b[39mint\u001b[39m(\u001b[39minput\u001b[39m(\u001b[39m\"\u001b[39m\u001b[39mEnter a value:   \u001b[39m\u001b[39m\"\u001b[39m))\n\u001b[1;32m      3\u001b[0m \u001b[39mif\u001b[39;00m a\u001b[39m>\u001b[39mb:\n",
      "\u001b[0;31mValueError\u001b[0m: invalid literal for int() with base 10: ''"
     ]
    }
   ],
   "source": [
    "a = int(input(\"Enter a value:   \"))\n",
    "b = int(input(\"Enter a value:   \"))\n",
    "if a>b:\n",
    "    print(f\"{a} is greater than {b}\")\n",
    "    print(\"if statement is working here\")\n",
    "    \n",
    "elif b>a:\n",
    "    print(f\"{b} is greater than {a}\")\n",
    "    print(\"elif statement is working here\")\n",
    "    \n",
    "else:\n",
    "    print(\"Both are equal\")\n",
    "    print(\"else statement is working here\")"
   ]
  },
  {
   "cell_type": "code",
   "execution_count": 13,
   "id": "3cb7607c",
   "metadata": {},
   "outputs": [
    {
     "ename": "ValueError",
     "evalue": "invalid literal for int() with base 10: ''",
     "output_type": "error",
     "traceback": [
      "\u001b[0;31m---------------------------------------------------------------------------\u001b[0m",
      "\u001b[0;31mValueError\u001b[0m                                Traceback (most recent call last)",
      "Cell \u001b[0;32mIn[13], line 2\u001b[0m\n\u001b[1;32m      1\u001b[0m \u001b[39m# And\u001b[39;00m\n\u001b[0;32m----> 2\u001b[0m x\u001b[39m=\u001b[39m \u001b[39mint\u001b[39;49m(\u001b[39minput\u001b[39;49m(\u001b[39m\"\u001b[39;49m\u001b[39mEnter a value:   \u001b[39;49m\u001b[39m\"\u001b[39;49m))\n\u001b[1;32m      3\u001b[0m y\u001b[39m=\u001b[39m \u001b[39mint\u001b[39m(\u001b[39minput\u001b[39m(\u001b[39m\"\u001b[39m\u001b[39mEnter a value:   \u001b[39m\u001b[39m\"\u001b[39m))\n\u001b[1;32m      4\u001b[0m z\u001b[39m=\u001b[39m \u001b[39mint\u001b[39m(\u001b[39minput\u001b[39m(\u001b[39m\"\u001b[39m\u001b[39mEnter a value:   \u001b[39m\u001b[39m\"\u001b[39m))\n",
      "\u001b[0;31mValueError\u001b[0m: invalid literal for int() with base 10: ''"
     ]
    }
   ],
   "source": [
    "# And\n",
    "x= int(input(\"Enter a value:   \"))\n",
    "y= int(input(\"Enter a value:   \"))\n",
    "z= int(input(\"Enter a value:   \"))\n",
    "if x<y and x<z:\n",
    "    print(f\"{x} is smallest\")\n",
    "elif x>y and x<z:\n",
    "    print(f\"{x} is neither smallest nor largest\")\n",
    "elif x>y and x>z:\n",
    "    print(f\"{x} is largest\")\n",
    "else:\n",
    "    print(\"Error\")"
   ]
  },
  {
   "cell_type": "code",
   "execution_count": 14,
   "id": "4f1f61e9",
   "metadata": {},
   "outputs": [
    {
     "ename": "ValueError",
     "evalue": "invalid literal for int() with base 10: ''",
     "output_type": "error",
     "traceback": [
      "\u001b[0;31m---------------------------------------------------------------------------\u001b[0m",
      "\u001b[0;31mValueError\u001b[0m                                Traceback (most recent call last)",
      "Cell \u001b[0;32mIn[14], line 2\u001b[0m\n\u001b[1;32m      1\u001b[0m \u001b[39m# Or\u001b[39;00m\n\u001b[0;32m----> 2\u001b[0m x\u001b[39m=\u001b[39m \u001b[39mint\u001b[39;49m(\u001b[39minput\u001b[39;49m(\u001b[39m\"\u001b[39;49m\u001b[39mEnter a value:   \u001b[39;49m\u001b[39m\"\u001b[39;49m))\n\u001b[1;32m      3\u001b[0m y\u001b[39m=\u001b[39m \u001b[39mint\u001b[39m(\u001b[39minput\u001b[39m(\u001b[39m\"\u001b[39m\u001b[39mEnter a value:   \u001b[39m\u001b[39m\"\u001b[39m))\n\u001b[1;32m      4\u001b[0m z\u001b[39m=\u001b[39m \u001b[39mint\u001b[39m(\u001b[39minput\u001b[39m(\u001b[39m\"\u001b[39m\u001b[39mEnter a value:   \u001b[39m\u001b[39m\"\u001b[39m))\n",
      "\u001b[0;31mValueError\u001b[0m: invalid literal for int() with base 10: ''"
     ]
    }
   ],
   "source": [
    "# Or\n",
    "x= int(input(\"Enter a value:   \"))\n",
    "y= int(input(\"Enter a value:   \"))\n",
    "z= int(input(\"Enter a value:   \"))\n",
    "if x<y and x<z:\n",
    "    print(f\"{x} is small than any one if {y} {z}\")\n",
    "elif x>y or x<z:\n",
    "    print(f\"{x} is neither smallest nor largest\")\n",
    "elif x>y or x>z:\n",
    "    print(f\"{x} is largest\")\n",
    "else:\n",
    "    print(\"Error\")"
   ]
  },
  {
   "cell_type": "code",
   "execution_count": 15,
   "id": "ecf9b5ac",
   "metadata": {},
   "outputs": [
    {
     "ename": "ValueError",
     "evalue": "invalid literal for int() with base 10: ''",
     "output_type": "error",
     "traceback": [
      "\u001b[0;31m---------------------------------------------------------------------------\u001b[0m",
      "\u001b[0;31mValueError\u001b[0m                                Traceback (most recent call last)",
      "Cell \u001b[0;32mIn[15], line 2\u001b[0m\n\u001b[1;32m      1\u001b[0m \u001b[39m# Largest value of 3 input int\u001b[39;00m\n\u001b[0;32m----> 2\u001b[0m x\u001b[39m=\u001b[39m \u001b[39mint\u001b[39;49m(\u001b[39minput\u001b[39;49m(\u001b[39m\"\u001b[39;49m\u001b[39mEnter a value:   \u001b[39;49m\u001b[39m\"\u001b[39;49m))\n\u001b[1;32m      3\u001b[0m y\u001b[39m=\u001b[39m \u001b[39mint\u001b[39m(\u001b[39minput\u001b[39m(\u001b[39m\"\u001b[39m\u001b[39mEnter a value:   \u001b[39m\u001b[39m\"\u001b[39m))\n\u001b[1;32m      4\u001b[0m z\u001b[39m=\u001b[39m \u001b[39mint\u001b[39m(\u001b[39minput\u001b[39m(\u001b[39m\"\u001b[39m\u001b[39mEnter a value:   \u001b[39m\u001b[39m\"\u001b[39m))\n",
      "\u001b[0;31mValueError\u001b[0m: invalid literal for int() with base 10: ''"
     ]
    }
   ],
   "source": [
    "# Largest value of 3 input int\n",
    "x= int(input(\"Enter a value:   \"))\n",
    "y= int(input(\"Enter a value:   \"))\n",
    "z= int(input(\"Enter a value:   \"))\n",
    "if x>y and x>z:\n",
    "    print(f\"{x} is largest\")\n",
    "elif y>x and y>z:\n",
    "    print(f\"{y} is largest\")\n",
    "elif z>x and z>y:\n",
    "    print(f\"{z} is largest\")"
   ]
  },
  {
   "cell_type": "code",
   "execution_count": null,
   "id": "ad6e5ec6",
   "metadata": {},
   "outputs": [],
   "source": [
    "#looping\n",
    "print(\"For loop with new line character\")\n",
    "for i in range(0,10):\n",
    "    print(i)\n",
    "i = 0\n",
    "print(\"While loop without new line character\")\n",
    "while i<10:\n",
    "    print(i,end=\" \")\n",
    "    i += 1"
   ]
  },
  {
   "attachments": {},
   "cell_type": "markdown",
   "id": "22d33f12",
   "metadata": {},
   "source": [
    "# List"
   ]
  },
  {
   "cell_type": "code",
   "execution_count": 16,
   "id": "1a93fe41",
   "metadata": {},
   "outputs": [],
   "source": [
    "list = []"
   ]
  },
  {
   "cell_type": "code",
   "execution_count": 17,
   "id": "e864f7f2",
   "metadata": {},
   "outputs": [
    {
     "name": "stdout",
     "output_type": "stream",
     "text": [
      "[10, 'Vishesh', 10.6]\n"
     ]
    }
   ],
   "source": [
    "# Add element at the end\n",
    "list.append(10)\n",
    "list.append(\"Vishesh\")\n",
    "list.append(10.6)\n",
    "print(list)"
   ]
  },
  {
   "cell_type": "code",
   "execution_count": 18,
   "id": "de6e680d",
   "metadata": {},
   "outputs": [
    {
     "name": "stdout",
     "output_type": "stream",
     "text": [
      "[10, 'hello', 'Vishesh', 10.6]\n"
     ]
    }
   ],
   "source": [
    "# Add element at specific index\n",
    "list.insert(1,\"hello\")\n",
    "print(list)"
   ]
  },
  {
   "cell_type": "code",
   "execution_count": 19,
   "id": "72f67fc1",
   "metadata": {},
   "outputs": [
    {
     "name": "stdout",
     "output_type": "stream",
     "text": [
      "['hello', 'Vishesh', 10.6]\n"
     ]
    }
   ],
   "source": [
    "# To delete specific element \n",
    "list.remove(10)\n",
    "print(list)"
   ]
  },
  {
   "cell_type": "code",
   "execution_count": 20,
   "id": "1a1a436f",
   "metadata": {},
   "outputs": [
    {
     "name": "stdout",
     "output_type": "stream",
     "text": [
      "['Vishesh', 10.6]\n"
     ]
    }
   ],
   "source": [
    "# To delete element at specific index\n",
    "list.pop(0)\n",
    "print(list)"
   ]
  },
  {
   "cell_type": "code",
   "execution_count": 21,
   "id": "bad9aff5",
   "metadata": {},
   "outputs": [
    {
     "name": "stdout",
     "output_type": "stream",
     "text": [
      "Sort acending order    [10, 23, 2, 345, 223, 3212, 343, 1, 24, 54]\n",
      "Sort alphabetically    ['vishesh', 'Vishesh', 'innogeeks', 'clap']\n",
      "Sort length wise       ['clap', 'vishesh', 'Vishesh', 'innogeeks']\n"
     ]
    }
   ],
   "source": [
    "# To sort values, strings\n",
    "list1 = [10,23,2,345,223,3212,343,1,24,54]\n",
    "list2 = [\"vishesh\",\"Vishesh\",\"innogeeks\",\"clap\"]\n",
    "list1.sort\n",
    "print(\"Sort acending order   \",list1)\n",
    "list2.sort\n",
    "print(\"Sort alphabetically   \",list2)\n",
    "# To sort length wise\n",
    "list2.sort(key=len)\n",
    "print(\"Sort length wise      \",list2)"
   ]
  },
  {
   "cell_type": "code",
   "execution_count": 22,
   "id": "91057a3e",
   "metadata": {},
   "outputs": [
    {
     "name": "stdout",
     "output_type": "stream",
     "text": [
      "[1, 4, 9, 16, 25, 36, 49, 64, 81, 100]\n",
      "[1, 4, 9, 16, 25, 36, 49, 64, 81, 100]\n"
     ]
    }
   ],
   "source": [
    "# To add sq of 1 to 10\n",
    "list3 = []\n",
    "for i in range(1,11):\n",
    "    list3.append(i**2)\n",
    "print(list3)\n",
    "# Same program in single line ie list comperhension\n",
    "list4 = [j**2 for j in range(1,11)]\n",
    "print(list4)"
   ]
  },
  {
   "cell_type": "code",
   "execution_count": 23,
   "id": "6127bb19",
   "metadata": {},
   "outputs": [
    {
     "name": "stdout",
     "output_type": "stream",
     "text": [
      "[('Vishesh', 95), ('Vishesh', 89), ('Vishesh', 45), ('saket', 95), ('saket', 89), ('saket', 45), ('Rohit', 95), ('Rohit', 89), ('Rohit', 45)]\n"
     ]
    }
   ],
   "source": [
    "name = [\"Vishesh\",\"saket\",\"Rohit\"]\n",
    "marks = [95,89,45]\n",
    "list = []\n",
    "for i in name:\n",
    "    for j in marks:\n",
    "        list.append((i,j))\n",
    "print(list)"
   ]
  },
  {
   "cell_type": "code",
   "execution_count": 24,
   "id": "1839efb2",
   "metadata": {},
   "outputs": [
    {
     "name": "stdout",
     "output_type": "stream",
     "text": [
      "0 1 2 \n",
      "\n",
      "3 4 5 \n",
      "\n",
      "6 7 8 \n",
      "\n"
     ]
    }
   ],
   "source": [
    "# 2D list\n",
    "a = [[0,1,2],[3,4,5],[6,7,8]]\n",
    "for i in range(0,3):\n",
    "    for j in range(0,3):\n",
    "        print(a[i][j], end=\" \")\n",
    "    print(\"\\n\")"
   ]
  },
  {
   "attachments": {},
   "cell_type": "markdown",
   "id": "188a63c0",
   "metadata": {},
   "source": [
    "#  Dictionary"
   ]
  },
  {
   "cell_type": "code",
   "execution_count": 25,
   "id": "ea0d66e7",
   "metadata": {},
   "outputs": [
    {
     "name": "stdout",
     "output_type": "stream",
     "text": [
      "value2\n",
      "keys are    dict_keys(['key1', 'key2', 'key3'])\n",
      "Items are   dict_items([('key1', 'value1'), ('key2', 'value2'), ('key3', 'value3')])\n"
     ]
    }
   ],
   "source": [
    "dict = {\"key1\":\"value1\",\"key2\":\"value2\",\"key3\":\"value3\"}\n",
    "print(dict[\"key2\"])\n",
    "print(\"keys are   \",dict.keys())\n",
    "print(\"Items are  \",dict.items())\n"
   ]
  },
  {
   "cell_type": "code",
   "execution_count": 26,
   "id": "50c1741f",
   "metadata": {},
   "outputs": [
    {
     "name": "stdout",
     "output_type": "stream",
     "text": [
      "{'Year4': ['Webd', 'ML', 'Cloud', 'C', 'C++', 'Python', 'Rust'], 'Year1': ['Classes', 'Assigment', 'Lab manual'], 'Year2': ['Fun', 'Less assignment', 'Free period']}\n"
     ]
    }
   ],
   "source": [
    "list1 = [\"Webd\",\"ML\",\"Cloud\",\"C\",\"C++\",\"Python\",\"Rust\"]\n",
    "list2 = [\"Classes\",\"Assigment\",\"Lab manual\"]\n",
    "list3 = [\"Fun\",\"Less assignment\",\"Free period\"]\n",
    "dict = {\"Year4\":list1,\"Year1\":list2,\"Year2\":list3}\n",
    "print(dict)"
   ]
  },
  {
   "cell_type": "code",
   "execution_count": 27,
   "id": "70331b86",
   "metadata": {},
   "outputs": [
    {
     "name": "stdout",
     "output_type": "stream",
     "text": [
      "Year4 ['Webd', 'ML', 'Cloud', 'C', 'C++', 'Python', 'Rust']\n",
      "Year1 ['Classes', 'Assigment', 'Lab manual']\n",
      "Year2 ['Fun', 'Less assignment', 'Free period']\n"
     ]
    }
   ],
   "source": [
    "for keys,values in dict.items():\n",
    "    print(keys,values)"
   ]
  },
  {
   "cell_type": "code",
   "execution_count": 28,
   "id": "1f3164bc",
   "metadata": {},
   "outputs": [],
   "source": [
    "import sys"
   ]
  },
  {
   "cell_type": "code",
   "execution_count": 29,
   "id": "04b7f2e4",
   "metadata": {},
   "outputs": [],
   "source": [
    "list = [1,2,3,4,5,6,7]"
   ]
  },
  {
   "cell_type": "code",
   "execution_count": 30,
   "id": "2c798db5",
   "metadata": {},
   "outputs": [
    {
     "data": {
      "text/plain": [
       "120"
      ]
     },
     "execution_count": 30,
     "metadata": {},
     "output_type": "execute_result"
    }
   ],
   "source": [
    "sys.getsizeof(list)\n"
   ]
  },
  {
   "attachments": {},
   "cell_type": "markdown",
   "id": "15368b65",
   "metadata": {},
   "source": [
    "# Sub stringing \n",
    "### Format variable[start:stop-1:skip]"
   ]
  },
  {
   "cell_type": "code",
   "execution_count": 31,
   "id": "dd77b282",
   "metadata": {},
   "outputs": [],
   "source": [
    "a = \"Hello World!\""
   ]
  },
  {
   "cell_type": "code",
   "execution_count": 32,
   "id": "cb6fcb46",
   "metadata": {},
   "outputs": [
    {
     "name": "stdout",
     "output_type": "stream",
     "text": [
      "Hello World!\n"
     ]
    }
   ],
   "source": [
    "print(a[0:12]) # Equal to print(a[::])"
   ]
  },
  {
   "cell_type": "code",
   "execution_count": 33,
   "id": "b2676871",
   "metadata": {},
   "outputs": [
    {
     "name": "stdout",
     "output_type": "stream",
     "text": [
      "ello Wo\n"
     ]
    }
   ],
   "source": [
    "# Start from 0 end at last index\n",
    "print(a[1:8])"
   ]
  },
  {
   "cell_type": "code",
   "execution_count": 34,
   "id": "50f50705",
   "metadata": {},
   "outputs": [
    {
     "name": "stdout",
     "output_type": "stream",
     "text": [
      "llo World!\n"
     ]
    }
   ],
   "source": [
    "# Start from 2nd end at last index\n",
    "print(a[2:])"
   ]
  },
  {
   "cell_type": "code",
   "execution_count": 35,
   "id": "9d2f4e29",
   "metadata": {},
   "outputs": [
    {
     "name": "stdout",
     "output_type": "stream",
     "text": [
      "Hello\n"
     ]
    }
   ],
   "source": [
    "# Start from 0 end at 4th index\n",
    "print(a[:5])"
   ]
  },
  {
   "cell_type": "code",
   "execution_count": 36,
   "id": "d7b7bec2",
   "metadata": {},
   "outputs": [
    {
     "name": "stdout",
     "output_type": "stream",
     "text": [
      "HloWrd\n"
     ]
    }
   ],
   "source": [
    "# Skiping letters\n",
    "print(a[0:11:2])"
   ]
  },
  {
   "cell_type": "code",
   "execution_count": 37,
   "id": "9cf80f2c",
   "metadata": {},
   "outputs": [
    {
     "name": "stdout",
     "output_type": "stream",
     "text": [
      "!dlroW olleH\n"
     ]
    }
   ],
   "source": [
    "# Reverced \n",
    "print(a[::-1])"
   ]
  },
  {
   "cell_type": "code",
   "execution_count": 38,
   "id": "6e51daad",
   "metadata": {},
   "outputs": [
    {
     "name": "stdout",
     "output_type": "stream",
     "text": [
      "String convert to fully upper case HELLO WORLD!\n",
      "String convert to fully lower case hello world!\n"
     ]
    }
   ],
   "source": [
    "print(f\"String convert to fully upper case {a.upper()}\")\n",
    "print(f\"String convert to fully lower case {a.lower()}\")"
   ]
  },
  {
   "cell_type": "code",
   "execution_count": 39,
   "id": "1f5329e6",
   "metadata": {},
   "outputs": [
    {
     "name": "stdout",
     "output_type": "stream",
     "text": [
      "hi my name is Vishesh Maurya 14\n"
     ]
    }
   ],
   "source": [
    "# String addition\n",
    "str1 = \"hi my name is Vishesh\"\n",
    "print(str1 +\" Maurya\"+\" 14\")"
   ]
  },
  {
   "attachments": {},
   "cell_type": "markdown",
   "id": "d4ad5b07",
   "metadata": {},
   "source": [
    "# Functions"
   ]
  },
  {
   "cell_type": "code",
   "execution_count": 40,
   "id": "bc0f0835",
   "metadata": {},
   "outputs": [],
   "source": [
    "def printANum(x):\n",
    "    print(x)"
   ]
  },
  {
   "cell_type": "code",
   "execution_count": 41,
   "id": "f9cf21f4",
   "metadata": {},
   "outputs": [
    {
     "name": "stdout",
     "output_type": "stream",
     "text": [
      "46\n"
     ]
    }
   ],
   "source": [
    "printANum(46)"
   ]
  },
  {
   "cell_type": "code",
   "execution_count": 42,
   "id": "88658b58",
   "metadata": {},
   "outputs": [
    {
     "name": "stdout",
     "output_type": "stream",
     "text": [
      "Hello\n"
     ]
    }
   ],
   "source": [
    "import sam\n",
    "sam.function()"
   ]
  },
  {
   "cell_type": "code",
   "execution_count": 43,
   "id": "90d9b8c1",
   "metadata": {},
   "outputs": [
    {
     "name": "stdout",
     "output_type": "stream",
     "text": [
      "Vishesh12\n"
     ]
    }
   ],
   "source": [
    "def inno(size):\n",
    "    print(\"Vishesh\"+size)\n",
    "inno(\"12\")"
   ]
  },
  {
   "cell_type": "code",
   "execution_count": 44,
   "id": "22e84ced",
   "metadata": {},
   "outputs": [],
   "source": [
    "def inno1(*size):\n",
    "    print(\"Vishesh\"+size[1]+size[2]+size[0])"
   ]
  },
  {
   "cell_type": "code",
   "execution_count": 45,
   "id": "6f789c53",
   "metadata": {},
   "outputs": [
    {
     "name": "stdout",
     "output_type": "stream",
     "text": [
      "Vishesh324\n"
     ]
    }
   ],
   "source": [
    "inno1(\"4\",\"3\",\"2\")"
   ]
  },
  {
   "cell_type": "code",
   "execution_count": 46,
   "id": "26a005bd",
   "metadata": {},
   "outputs": [
    {
     "name": "stdout",
     "output_type": "stream",
     "text": [
      "i am fine\n"
     ]
    }
   ],
   "source": [
    "import sam\n",
    "sam.fun()"
   ]
  },
  {
   "cell_type": "markdown",
   "id": "2adf0fba",
   "metadata": {},
   "source": [
    "# Basic syntax of a function"
   ]
  },
  {
   "cell_type": "code",
   "execution_count": null,
   "id": "c4205fea",
   "metadata": {},
   "outputs": [],
   "source": [
    "# To make code more efficient we check to only n/2+1\n",
    "def prime(n):\n",
    "    c=0\n",
    "    for i in range(2,int(n/2+1)):\n",
    "        if n%i==0:\n",
    "            c += 1\n",
    "    if c==0:\n",
    "        print(f\"{n} is a prime no.\")\n",
    "    else:\n",
    "        print(f\"{n} is a not a prime no.\")\n",
    "\n",
    "        \n",
    "num=int(input(\"Enter a no.   \"))\n",
    "prime(num)"
   ]
  },
  {
   "cell_type": "code",
   "execution_count": null,
   "id": "47f82dec",
   "metadata": {},
   "outputs": [
    {
     "name": "stdout",
     "output_type": "stream",
     "text": [
      "2 is a prime no.\n",
      "3 is a prime no.\n",
      "5 is a prime no.\n",
      "7 is a prime no.\n",
      "11 is a prime no.\n",
      "13 is a prime no.\n",
      "17 is a prime no.\n",
      "19 is a prime no.\n",
      "23 is a prime no.\n",
      "29 is a prime no.\n",
      "31 is a prime no.\n",
      "37 is a prime no.\n",
      "41 is a prime no.\n",
      "43 is a prime no.\n",
      "47 is a prime no.\n",
      "53 is a prime no.\n",
      "59 is a prime no.\n",
      "61 is a prime no.\n",
      "67 is a prime no.\n",
      "71 is a prime no.\n",
      "73 is a prime no.\n",
      "79 is a prime no.\n",
      "83 is a prime no.\n",
      "89 is a prime no.\n",
      "97 is a prime no.\n"
     ]
    }
   ],
   "source": [
    "def prime():\n",
    "    for j in range(2,101):\n",
    "        c=1\n",
    "        for i in range(2,j):\n",
    "            if j%i==0:\n",
    "                c += 1\n",
    "        if c==1:\n",
    "            print(f\"{j} is a prime number\")\n",
    "                \n",
    "        \n",
    "prime()"
   ]
  },
  {
   "cell_type": "code",
   "execution_count": null,
   "id": "7496fd40",
   "metadata": {},
   "outputs": [],
   "source": []
  }
 ],
 "metadata": {
  "kernelspec": {
   "display_name": "Python 3",
   "language": "python",
   "name": "python3"
  },
  "language_info": {
   "codemirror_mode": {
    "name": "ipython",
    "version": 3
   },
   "file_extension": ".py",
   "mimetype": "text/x-python",
   "name": "python",
   "nbconvert_exporter": "python",
   "pygments_lexer": "ipython3",
   "version": "3.10.6"
  },
  "vscode": {
   "interpreter": {
    "hash": "e7370f93d1d0cde622a1f8e1c04877d8463912d04d973331ad4851f04de6915a"
   }
  }
 },
 "nbformat": 4,
 "nbformat_minor": 5
}
