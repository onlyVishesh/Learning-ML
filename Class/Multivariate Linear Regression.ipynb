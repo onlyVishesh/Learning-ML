{
 "cells": [
  {
   "cell_type": "code",
   "execution_count": 1,
   "id": "70933951",
   "metadata": {},
   "outputs": [],
   "source": [
    "import pandas as pd\n",
    "import numpy as np\n",
    "import matplotlib.pyplot as plt\n",
    "from sklearn import linear_model"
   ]
  },
  {
   "cell_type": "code",
   "execution_count": 2,
   "id": "d48e759d",
   "metadata": {},
   "outputs": [],
   "source": [
    "df=pd.read_csv('USA_Housing.csv')"
   ]
  },
  {
   "cell_type": "code",
   "execution_count": 3,
   "id": "4e06766f",
   "metadata": {},
   "outputs": [
    {
     "data": {
      "text/html": [
       "<div>\n",
       "<style scoped>\n",
       "    .dataframe tbody tr th:only-of-type {\n",
       "        vertical-align: middle;\n",
       "    }\n",
       "\n",
       "    .dataframe tbody tr th {\n",
       "        vertical-align: top;\n",
       "    }\n",
       "\n",
       "    .dataframe thead th {\n",
       "        text-align: right;\n",
       "    }\n",
       "</style>\n",
       "<table border=\"1\" class=\"dataframe\">\n",
       "  <thead>\n",
       "    <tr style=\"text-align: right;\">\n",
       "      <th></th>\n",
       "      <th>Avg. Area Income</th>\n",
       "      <th>Avg. Area House Age</th>\n",
       "      <th>Avg. Area Number of Rooms</th>\n",
       "      <th>Avg. Area Number of Bedrooms</th>\n",
       "      <th>Area Population</th>\n",
       "      <th>Price</th>\n",
       "      <th>Address</th>\n",
       "    </tr>\n",
       "  </thead>\n",
       "  <tbody>\n",
       "    <tr>\n",
       "      <th>0</th>\n",
       "      <td>79545.458574</td>\n",
       "      <td>5.682861</td>\n",
       "      <td>7.009188</td>\n",
       "      <td>4.09</td>\n",
       "      <td>23086.800503</td>\n",
       "      <td>1.059034e+06</td>\n",
       "      <td>208 Michael Ferry Apt. 674\\nLaurabury, NE 3701...</td>\n",
       "    </tr>\n",
       "    <tr>\n",
       "      <th>1</th>\n",
       "      <td>79248.642455</td>\n",
       "      <td>6.002900</td>\n",
       "      <td>6.730821</td>\n",
       "      <td>3.09</td>\n",
       "      <td>40173.072174</td>\n",
       "      <td>1.505891e+06</td>\n",
       "      <td>188 Johnson Views Suite 079\\nLake Kathleen, CA...</td>\n",
       "    </tr>\n",
       "    <tr>\n",
       "      <th>2</th>\n",
       "      <td>61287.067179</td>\n",
       "      <td>5.865890</td>\n",
       "      <td>8.512727</td>\n",
       "      <td>5.13</td>\n",
       "      <td>36882.159400</td>\n",
       "      <td>1.058988e+06</td>\n",
       "      <td>9127 Elizabeth Stravenue\\nDanieltown, WI 06482...</td>\n",
       "    </tr>\n",
       "    <tr>\n",
       "      <th>3</th>\n",
       "      <td>63345.240046</td>\n",
       "      <td>7.188236</td>\n",
       "      <td>5.586729</td>\n",
       "      <td>3.26</td>\n",
       "      <td>34310.242831</td>\n",
       "      <td>1.260617e+06</td>\n",
       "      <td>USS Barnett\\nFPO AP 44820</td>\n",
       "    </tr>\n",
       "    <tr>\n",
       "      <th>4</th>\n",
       "      <td>59982.197226</td>\n",
       "      <td>5.040555</td>\n",
       "      <td>7.839388</td>\n",
       "      <td>4.23</td>\n",
       "      <td>26354.109472</td>\n",
       "      <td>6.309435e+05</td>\n",
       "      <td>USNS Raymond\\nFPO AE 09386</td>\n",
       "    </tr>\n",
       "  </tbody>\n",
       "</table>\n",
       "</div>"
      ],
      "text/plain": [
       "   Avg. Area Income  Avg. Area House Age  Avg. Area Number of Rooms  \\\n",
       "0      79545.458574             5.682861                   7.009188   \n",
       "1      79248.642455             6.002900                   6.730821   \n",
       "2      61287.067179             5.865890                   8.512727   \n",
       "3      63345.240046             7.188236                   5.586729   \n",
       "4      59982.197226             5.040555                   7.839388   \n",
       "\n",
       "   Avg. Area Number of Bedrooms  Area Population         Price  \\\n",
       "0                          4.09     23086.800503  1.059034e+06   \n",
       "1                          3.09     40173.072174  1.505891e+06   \n",
       "2                          5.13     36882.159400  1.058988e+06   \n",
       "3                          3.26     34310.242831  1.260617e+06   \n",
       "4                          4.23     26354.109472  6.309435e+05   \n",
       "\n",
       "                                             Address  \n",
       "0  208 Michael Ferry Apt. 674\\nLaurabury, NE 3701...  \n",
       "1  188 Johnson Views Suite 079\\nLake Kathleen, CA...  \n",
       "2  9127 Elizabeth Stravenue\\nDanieltown, WI 06482...  \n",
       "3                          USS Barnett\\nFPO AP 44820  \n",
       "4                         USNS Raymond\\nFPO AE 09386  "
      ]
     },
     "execution_count": 3,
     "metadata": {},
     "output_type": "execute_result"
    }
   ],
   "source": [
    "df.head()"
   ]
  },
  {
   "cell_type": "code",
   "execution_count": 4,
   "id": "54db637e",
   "metadata": {},
   "outputs": [
    {
     "data": {
      "text/plain": [
       "Index(['Avg. Area Income', 'Avg. Area House Age', 'Avg. Area Number of Rooms',\n",
       "       'Avg. Area Number of Bedrooms', 'Area Population', 'Price', 'Address'],\n",
       "      dtype='object')"
      ]
     },
     "execution_count": 4,
     "metadata": {},
     "output_type": "execute_result"
    }
   ],
   "source": [
    "df.columns"
   ]
  },
  {
   "cell_type": "code",
   "execution_count": 5,
   "id": "6c2567ea",
   "metadata": {},
   "outputs": [
    {
     "data": {
      "text/plain": [
       "(5000, 7)"
      ]
     },
     "execution_count": 5,
     "metadata": {},
     "output_type": "execute_result"
    }
   ],
   "source": [
    "df.shape"
   ]
  },
  {
   "cell_type": "code",
   "execution_count": 6,
   "id": "f36605d4",
   "metadata": {},
   "outputs": [
    {
     "data": {
      "text/plain": [
       "Avg. Area Income                0\n",
       "Avg. Area House Age             0\n",
       "Avg. Area Number of Rooms       0\n",
       "Avg. Area Number of Bedrooms    0\n",
       "Area Population                 0\n",
       "Price                           0\n",
       "Address                         0\n",
       "dtype: int64"
      ]
     },
     "execution_count": 6,
     "metadata": {},
     "output_type": "execute_result"
    }
   ],
   "source": [
    "df.isnull().sum()"
   ]
  },
  {
   "cell_type": "code",
   "execution_count": 7,
   "id": "dfbe0f33",
   "metadata": {},
   "outputs": [
    {
     "data": {
      "text/html": [
       "<div>\n",
       "<style scoped>\n",
       "    .dataframe tbody tr th:only-of-type {\n",
       "        vertical-align: middle;\n",
       "    }\n",
       "\n",
       "    .dataframe tbody tr th {\n",
       "        vertical-align: top;\n",
       "    }\n",
       "\n",
       "    .dataframe thead th {\n",
       "        text-align: right;\n",
       "    }\n",
       "</style>\n",
       "<table border=\"1\" class=\"dataframe\">\n",
       "  <thead>\n",
       "    <tr style=\"text-align: right;\">\n",
       "      <th></th>\n",
       "      <th>Avg. Area Income</th>\n",
       "      <th>Avg. Area House Age</th>\n",
       "      <th>Avg. Area Number of Rooms</th>\n",
       "      <th>Avg. Area Number of Bedrooms</th>\n",
       "      <th>Area Population</th>\n",
       "      <th>Price</th>\n",
       "    </tr>\n",
       "  </thead>\n",
       "  <tbody>\n",
       "    <tr>\n",
       "      <th>count</th>\n",
       "      <td>5000.000000</td>\n",
       "      <td>5000.000000</td>\n",
       "      <td>5000.000000</td>\n",
       "      <td>5000.000000</td>\n",
       "      <td>5000.000000</td>\n",
       "      <td>5.000000e+03</td>\n",
       "    </tr>\n",
       "    <tr>\n",
       "      <th>mean</th>\n",
       "      <td>68583.108984</td>\n",
       "      <td>5.977222</td>\n",
       "      <td>6.987792</td>\n",
       "      <td>3.981330</td>\n",
       "      <td>36163.516039</td>\n",
       "      <td>1.232073e+06</td>\n",
       "    </tr>\n",
       "    <tr>\n",
       "      <th>std</th>\n",
       "      <td>10657.991214</td>\n",
       "      <td>0.991456</td>\n",
       "      <td>1.005833</td>\n",
       "      <td>1.234137</td>\n",
       "      <td>9925.650114</td>\n",
       "      <td>3.531176e+05</td>\n",
       "    </tr>\n",
       "    <tr>\n",
       "      <th>min</th>\n",
       "      <td>17796.631190</td>\n",
       "      <td>2.644304</td>\n",
       "      <td>3.236194</td>\n",
       "      <td>2.000000</td>\n",
       "      <td>172.610686</td>\n",
       "      <td>1.593866e+04</td>\n",
       "    </tr>\n",
       "    <tr>\n",
       "      <th>25%</th>\n",
       "      <td>61480.562388</td>\n",
       "      <td>5.322283</td>\n",
       "      <td>6.299250</td>\n",
       "      <td>3.140000</td>\n",
       "      <td>29403.928702</td>\n",
       "      <td>9.975771e+05</td>\n",
       "    </tr>\n",
       "    <tr>\n",
       "      <th>50%</th>\n",
       "      <td>68804.286404</td>\n",
       "      <td>5.970429</td>\n",
       "      <td>7.002902</td>\n",
       "      <td>4.050000</td>\n",
       "      <td>36199.406689</td>\n",
       "      <td>1.232669e+06</td>\n",
       "    </tr>\n",
       "    <tr>\n",
       "      <th>75%</th>\n",
       "      <td>75783.338666</td>\n",
       "      <td>6.650808</td>\n",
       "      <td>7.665871</td>\n",
       "      <td>4.490000</td>\n",
       "      <td>42861.290769</td>\n",
       "      <td>1.471210e+06</td>\n",
       "    </tr>\n",
       "    <tr>\n",
       "      <th>max</th>\n",
       "      <td>107701.748378</td>\n",
       "      <td>9.519088</td>\n",
       "      <td>10.759588</td>\n",
       "      <td>6.500000</td>\n",
       "      <td>69621.713378</td>\n",
       "      <td>2.469066e+06</td>\n",
       "    </tr>\n",
       "  </tbody>\n",
       "</table>\n",
       "</div>"
      ],
      "text/plain": [
       "       Avg. Area Income  Avg. Area House Age  Avg. Area Number of Rooms  \\\n",
       "count       5000.000000          5000.000000                5000.000000   \n",
       "mean       68583.108984             5.977222                   6.987792   \n",
       "std        10657.991214             0.991456                   1.005833   \n",
       "min        17796.631190             2.644304                   3.236194   \n",
       "25%        61480.562388             5.322283                   6.299250   \n",
       "50%        68804.286404             5.970429                   7.002902   \n",
       "75%        75783.338666             6.650808                   7.665871   \n",
       "max       107701.748378             9.519088                  10.759588   \n",
       "\n",
       "       Avg. Area Number of Bedrooms  Area Population         Price  \n",
       "count                   5000.000000      5000.000000  5.000000e+03  \n",
       "mean                       3.981330     36163.516039  1.232073e+06  \n",
       "std                        1.234137      9925.650114  3.531176e+05  \n",
       "min                        2.000000       172.610686  1.593866e+04  \n",
       "25%                        3.140000     29403.928702  9.975771e+05  \n",
       "50%                        4.050000     36199.406689  1.232669e+06  \n",
       "75%                        4.490000     42861.290769  1.471210e+06  \n",
       "max                        6.500000     69621.713378  2.469066e+06  "
      ]
     },
     "execution_count": 7,
     "metadata": {},
     "output_type": "execute_result"
    }
   ],
   "source": [
    "df.describe()"
   ]
  },
  {
   "cell_type": "code",
   "execution_count": 8,
   "id": "92e0abe2",
   "metadata": {},
   "outputs": [
    {
     "name": "stdout",
     "output_type": "stream",
     "text": [
      "<class 'pandas.core.frame.DataFrame'>\n",
      "RangeIndex: 5000 entries, 0 to 4999\n",
      "Data columns (total 7 columns):\n",
      " #   Column                        Non-Null Count  Dtype  \n",
      "---  ------                        --------------  -----  \n",
      " 0   Avg. Area Income              5000 non-null   float64\n",
      " 1   Avg. Area House Age           5000 non-null   float64\n",
      " 2   Avg. Area Number of Rooms     5000 non-null   float64\n",
      " 3   Avg. Area Number of Bedrooms  5000 non-null   float64\n",
      " 4   Area Population               5000 non-null   float64\n",
      " 5   Price                         5000 non-null   float64\n",
      " 6   Address                       5000 non-null   object \n",
      "dtypes: float64(6), object(1)\n",
      "memory usage: 273.6+ KB\n"
     ]
    }
   ],
   "source": [
    "df.info()"
   ]
  },
  {
   "cell_type": "code",
   "execution_count": 9,
   "id": "725f6dd2",
   "metadata": {},
   "outputs": [
    {
     "name": "stderr",
     "output_type": "stream",
     "text": [
      "/tmp/ipykernel_58185/1134722465.py:1: FutureWarning: The default value of numeric_only in DataFrame.corr is deprecated. In a future version, it will default to False. Select only valid columns or specify the value of numeric_only to silence this warning.\n",
      "  df.corr()\n"
     ]
    },
    {
     "data": {
      "text/html": [
       "<div>\n",
       "<style scoped>\n",
       "    .dataframe tbody tr th:only-of-type {\n",
       "        vertical-align: middle;\n",
       "    }\n",
       "\n",
       "    .dataframe tbody tr th {\n",
       "        vertical-align: top;\n",
       "    }\n",
       "\n",
       "    .dataframe thead th {\n",
       "        text-align: right;\n",
       "    }\n",
       "</style>\n",
       "<table border=\"1\" class=\"dataframe\">\n",
       "  <thead>\n",
       "    <tr style=\"text-align: right;\">\n",
       "      <th></th>\n",
       "      <th>Avg. Area Income</th>\n",
       "      <th>Avg. Area House Age</th>\n",
       "      <th>Avg. Area Number of Rooms</th>\n",
       "      <th>Avg. Area Number of Bedrooms</th>\n",
       "      <th>Area Population</th>\n",
       "      <th>Price</th>\n",
       "    </tr>\n",
       "  </thead>\n",
       "  <tbody>\n",
       "    <tr>\n",
       "      <th>Avg. Area Income</th>\n",
       "      <td>1.000000</td>\n",
       "      <td>-0.002007</td>\n",
       "      <td>-0.011032</td>\n",
       "      <td>0.019788</td>\n",
       "      <td>-0.016234</td>\n",
       "      <td>0.639734</td>\n",
       "    </tr>\n",
       "    <tr>\n",
       "      <th>Avg. Area House Age</th>\n",
       "      <td>-0.002007</td>\n",
       "      <td>1.000000</td>\n",
       "      <td>-0.009428</td>\n",
       "      <td>0.006149</td>\n",
       "      <td>-0.018743</td>\n",
       "      <td>0.452543</td>\n",
       "    </tr>\n",
       "    <tr>\n",
       "      <th>Avg. Area Number of Rooms</th>\n",
       "      <td>-0.011032</td>\n",
       "      <td>-0.009428</td>\n",
       "      <td>1.000000</td>\n",
       "      <td>0.462695</td>\n",
       "      <td>0.002040</td>\n",
       "      <td>0.335664</td>\n",
       "    </tr>\n",
       "    <tr>\n",
       "      <th>Avg. Area Number of Bedrooms</th>\n",
       "      <td>0.019788</td>\n",
       "      <td>0.006149</td>\n",
       "      <td>0.462695</td>\n",
       "      <td>1.000000</td>\n",
       "      <td>-0.022168</td>\n",
       "      <td>0.171071</td>\n",
       "    </tr>\n",
       "    <tr>\n",
       "      <th>Area Population</th>\n",
       "      <td>-0.016234</td>\n",
       "      <td>-0.018743</td>\n",
       "      <td>0.002040</td>\n",
       "      <td>-0.022168</td>\n",
       "      <td>1.000000</td>\n",
       "      <td>0.408556</td>\n",
       "    </tr>\n",
       "    <tr>\n",
       "      <th>Price</th>\n",
       "      <td>0.639734</td>\n",
       "      <td>0.452543</td>\n",
       "      <td>0.335664</td>\n",
       "      <td>0.171071</td>\n",
       "      <td>0.408556</td>\n",
       "      <td>1.000000</td>\n",
       "    </tr>\n",
       "  </tbody>\n",
       "</table>\n",
       "</div>"
      ],
      "text/plain": [
       "                              Avg. Area Income  Avg. Area House Age  \\\n",
       "Avg. Area Income                      1.000000            -0.002007   \n",
       "Avg. Area House Age                  -0.002007             1.000000   \n",
       "Avg. Area Number of Rooms            -0.011032            -0.009428   \n",
       "Avg. Area Number of Bedrooms          0.019788             0.006149   \n",
       "Area Population                      -0.016234            -0.018743   \n",
       "Price                                 0.639734             0.452543   \n",
       "\n",
       "                              Avg. Area Number of Rooms  \\\n",
       "Avg. Area Income                              -0.011032   \n",
       "Avg. Area House Age                           -0.009428   \n",
       "Avg. Area Number of Rooms                      1.000000   \n",
       "Avg. Area Number of Bedrooms                   0.462695   \n",
       "Area Population                                0.002040   \n",
       "Price                                          0.335664   \n",
       "\n",
       "                              Avg. Area Number of Bedrooms  Area Population  \\\n",
       "Avg. Area Income                                  0.019788        -0.016234   \n",
       "Avg. Area House Age                               0.006149        -0.018743   \n",
       "Avg. Area Number of Rooms                         0.462695         0.002040   \n",
       "Avg. Area Number of Bedrooms                      1.000000        -0.022168   \n",
       "Area Population                                  -0.022168         1.000000   \n",
       "Price                                             0.171071         0.408556   \n",
       "\n",
       "                                 Price  \n",
       "Avg. Area Income              0.639734  \n",
       "Avg. Area House Age           0.452543  \n",
       "Avg. Area Number of Rooms     0.335664  \n",
       "Avg. Area Number of Bedrooms  0.171071  \n",
       "Area Population               0.408556  \n",
       "Price                         1.000000  "
      ]
     },
     "execution_count": 9,
     "metadata": {},
     "output_type": "execute_result"
    }
   ],
   "source": [
    "df.corr()"
   ]
  },
  {
   "cell_type": "code",
   "execution_count": 10,
   "id": "4514a623",
   "metadata": {},
   "outputs": [
    {
     "name": "stderr",
     "output_type": "stream",
     "text": [
      "/tmp/ipykernel_58185/1950383679.py:2: FutureWarning: The default value of numeric_only in DataFrame.corr is deprecated. In a future version, it will default to False. Select only valid columns or specify the value of numeric_only to silence this warning.\n",
      "  sns.heatmap(df.corr(),annot=True)\n"
     ]
    },
    {
     "data": {
      "text/plain": [
       "<AxesSubplot: >"
      ]
     },
     "execution_count": 10,
     "metadata": {},
     "output_type": "execute_result"
    },
    {
     "data": {
      "image/png": "[encoded data removed]",
      "text/plain": [
       "<Figure size 640x480 with 2 Axes>"
      ]
     },
     "metadata": {},
     "output_type": "display_data"
    }
   ],
   "source": [
    "import seaborn as sns\n",
    "sns.heatmap(df.corr(),annot=True)"
   ]
  },
  {
   "cell_type": "code",
   "execution_count": 11,
   "id": "aaf28552",
   "metadata": {},
   "outputs": [],
   "source": [
    "df.drop('Address',axis='columns',inplace=True)"
   ]
  },
  {
   "cell_type": "code",
   "execution_count": 12,
   "id": "906006c6",
   "metadata": {},
   "outputs": [
    {
     "data": {
      "text/html": [
       "<div>\n",
       "<style scoped>\n",
       "    .dataframe tbody tr th:only-of-type {\n",
       "        vertical-align: middle;\n",
       "    }\n",
       "\n",
       "    .dataframe tbody tr th {\n",
       "        vertical-align: top;\n",
       "    }\n",
       "\n",
       "    .dataframe thead th {\n",
       "        text-align: right;\n",
       "    }\n",
       "</style>\n",
       "<table border=\"1\" class=\"dataframe\">\n",
       "  <thead>\n",
       "    <tr style=\"text-align: right;\">\n",
       "      <th></th>\n",
       "      <th>Avg. Area Income</th>\n",
       "      <th>Avg. Area House Age</th>\n",
       "      <th>Avg. Area Number of Rooms</th>\n",
       "      <th>Avg. Area Number of Bedrooms</th>\n",
       "      <th>Area Population</th>\n",
       "      <th>Price</th>\n",
       "    </tr>\n",
       "  </thead>\n",
       "  <tbody>\n",
       "    <tr>\n",
       "      <th>0</th>\n",
       "      <td>79545.458574</td>\n",
       "      <td>5.682861</td>\n",
       "      <td>7.009188</td>\n",
       "      <td>4.09</td>\n",
       "      <td>23086.800503</td>\n",
       "      <td>1.059034e+06</td>\n",
       "    </tr>\n",
       "    <tr>\n",
       "      <th>1</th>\n",
       "      <td>79248.642455</td>\n",
       "      <td>6.002900</td>\n",
       "      <td>6.730821</td>\n",
       "      <td>3.09</td>\n",
       "      <td>40173.072174</td>\n",
       "      <td>1.505891e+06</td>\n",
       "    </tr>\n",
       "    <tr>\n",
       "      <th>2</th>\n",
       "      <td>61287.067179</td>\n",
       "      <td>5.865890</td>\n",
       "      <td>8.512727</td>\n",
       "      <td>5.13</td>\n",
       "      <td>36882.159400</td>\n",
       "      <td>1.058988e+06</td>\n",
       "    </tr>\n",
       "    <tr>\n",
       "      <th>3</th>\n",
       "      <td>63345.240046</td>\n",
       "      <td>7.188236</td>\n",
       "      <td>5.586729</td>\n",
       "      <td>3.26</td>\n",
       "      <td>34310.242831</td>\n",
       "      <td>1.260617e+06</td>\n",
       "    </tr>\n",
       "    <tr>\n",
       "      <th>4</th>\n",
       "      <td>59982.197226</td>\n",
       "      <td>5.040555</td>\n",
       "      <td>7.839388</td>\n",
       "      <td>4.23</td>\n",
       "      <td>26354.109472</td>\n",
       "      <td>6.309435e+05</td>\n",
       "    </tr>\n",
       "  </tbody>\n",
       "</table>\n",
       "</div>"
      ],
      "text/plain": [
       "   Avg. Area Income  Avg. Area House Age  Avg. Area Number of Rooms  \\\n",
       "0      79545.458574             5.682861                   7.009188   \n",
       "1      79248.642455             6.002900                   6.730821   \n",
       "2      61287.067179             5.865890                   8.512727   \n",
       "3      63345.240046             7.188236                   5.586729   \n",
       "4      59982.197226             5.040555                   7.839388   \n",
       "\n",
       "   Avg. Area Number of Bedrooms  Area Population         Price  \n",
       "0                          4.09     23086.800503  1.059034e+06  \n",
       "1                          3.09     40173.072174  1.505891e+06  \n",
       "2                          5.13     36882.159400  1.058988e+06  \n",
       "3                          3.26     34310.242831  1.260617e+06  \n",
       "4                          4.23     26354.109472  6.309435e+05  "
      ]
     },
     "execution_count": 12,
     "metadata": {},
     "output_type": "execute_result"
    }
   ],
   "source": [
    "df.head()"
   ]
  },
  {
   "cell_type": "code",
   "execution_count": 13,
   "id": "ae83d330",
   "metadata": {},
   "outputs": [],
   "source": [
    "X=df.drop('Price',axis='columns')\n",
    "y=df.Price"
   ]
  },
  {
   "cell_type": "code",
   "execution_count": 24,
   "id": "ddfa5267",
   "metadata": {},
   "outputs": [],
   "source": [
    "from sklearn.model_selection import train_test_split as tts"
   ]
  },
  {
   "cell_type": "code",
   "execution_count": 25,
   "id": "13041499",
   "metadata": {},
   "outputs": [],
   "source": [
    "X_train,X_test,y_train,y_test=tts(X,y,test_size=0.1,random_state=10)"
   ]
  },
  {
   "cell_type": "code",
   "execution_count": 26,
   "id": "04d0419c",
   "metadata": {},
   "outputs": [
    {
     "data": {
      "text/html": [
       "<div>\n",
       "<style scoped>\n",
       "    .dataframe tbody tr th:only-of-type {\n",
       "        vertical-align: middle;\n",
       "    }\n",
       "\n",
       "    .dataframe tbody tr th {\n",
       "        vertical-align: top;\n",
       "    }\n",
       "\n",
       "    .dataframe thead th {\n",
       "        text-align: right;\n",
       "    }\n",
       "</style>\n",
       "<table border=\"1\" class=\"dataframe\">\n",
       "  <thead>\n",
       "    <tr style=\"text-align: right;\">\n",
       "      <th></th>\n",
       "      <th>Avg. Area Income</th>\n",
       "      <th>Avg. Area House Age</th>\n",
       "      <th>Avg. Area Number of Rooms</th>\n",
       "      <th>Avg. Area Number of Bedrooms</th>\n",
       "      <th>Area Population</th>\n",
       "    </tr>\n",
       "  </thead>\n",
       "  <tbody>\n",
       "    <tr>\n",
       "      <th>1731</th>\n",
       "      <td>69227.607255</td>\n",
       "      <td>3.858766</td>\n",
       "      <td>9.114773</td>\n",
       "      <td>6.02</td>\n",
       "      <td>42582.625871</td>\n",
       "    </tr>\n",
       "    <tr>\n",
       "      <th>3096</th>\n",
       "      <td>47121.009958</td>\n",
       "      <td>6.714882</td>\n",
       "      <td>6.650923</td>\n",
       "      <td>3.23</td>\n",
       "      <td>46303.462107</td>\n",
       "    </tr>\n",
       "    <tr>\n",
       "      <th>1464</th>\n",
       "      <td>79863.285936</td>\n",
       "      <td>6.697264</td>\n",
       "      <td>6.376060</td>\n",
       "      <td>3.05</td>\n",
       "      <td>35048.263338</td>\n",
       "    </tr>\n",
       "    <tr>\n",
       "      <th>470</th>\n",
       "      <td>85719.315623</td>\n",
       "      <td>4.537668</td>\n",
       "      <td>6.029204</td>\n",
       "      <td>3.19</td>\n",
       "      <td>32058.356241</td>\n",
       "    </tr>\n",
       "    <tr>\n",
       "      <th>454</th>\n",
       "      <td>72432.700339</td>\n",
       "      <td>5.877127</td>\n",
       "      <td>5.761670</td>\n",
       "      <td>3.20</td>\n",
       "      <td>35039.469390</td>\n",
       "    </tr>\n",
       "    <tr>\n",
       "      <th>...</th>\n",
       "      <td>...</td>\n",
       "      <td>...</td>\n",
       "      <td>...</td>\n",
       "      <td>...</td>\n",
       "      <td>...</td>\n",
       "    </tr>\n",
       "    <tr>\n",
       "      <th>1180</th>\n",
       "      <td>72695.115137</td>\n",
       "      <td>5.363777</td>\n",
       "      <td>6.871980</td>\n",
       "      <td>4.24</td>\n",
       "      <td>48115.420780</td>\n",
       "    </tr>\n",
       "    <tr>\n",
       "      <th>3441</th>\n",
       "      <td>75479.767453</td>\n",
       "      <td>6.009215</td>\n",
       "      <td>6.475022</td>\n",
       "      <td>4.26</td>\n",
       "      <td>18537.430799</td>\n",
       "    </tr>\n",
       "    <tr>\n",
       "      <th>1344</th>\n",
       "      <td>70670.878894</td>\n",
       "      <td>6.581627</td>\n",
       "      <td>6.477495</td>\n",
       "      <td>3.17</td>\n",
       "      <td>23592.157588</td>\n",
       "    </tr>\n",
       "    <tr>\n",
       "      <th>4623</th>\n",
       "      <td>73804.908618</td>\n",
       "      <td>6.731999</td>\n",
       "      <td>7.617261</td>\n",
       "      <td>4.25</td>\n",
       "      <td>40877.189120</td>\n",
       "    </tr>\n",
       "    <tr>\n",
       "      <th>1289</th>\n",
       "      <td>63867.104589</td>\n",
       "      <td>6.394230</td>\n",
       "      <td>8.958300</td>\n",
       "      <td>4.02</td>\n",
       "      <td>14522.659071</td>\n",
       "    </tr>\n",
       "  </tbody>\n",
       "</table>\n",
       "<p>4500 rows × 5 columns</p>\n",
       "</div>"
      ],
      "text/plain": [
       "      Avg. Area Income  Avg. Area House Age  Avg. Area Number of Rooms  \\\n",
       "1731      69227.607255             3.858766                   9.114773   \n",
       "3096      47121.009958             6.714882                   6.650923   \n",
       "1464      79863.285936             6.697264                   6.376060   \n",
       "470       85719.315623             4.537668                   6.029204   \n",
       "454       72432.700339             5.877127                   5.761670   \n",
       "...                ...                  ...                        ...   \n",
       "1180      72695.115137             5.363777                   6.871980   \n",
       "3441      75479.767453             6.009215                   6.475022   \n",
       "1344      70670.878894             6.581627                   6.477495   \n",
       "4623      73804.908618             6.731999                   7.617261   \n",
       "1289      63867.104589             6.394230                   8.958300   \n",
       "\n",
       "      Avg. Area Number of Bedrooms  Area Population  \n",
       "1731                          6.02     42582.625871  \n",
       "3096                          3.23     46303.462107  \n",
       "1464                          3.05     35048.263338  \n",
       "470                           3.19     32058.356241  \n",
       "454                           3.20     35039.469390  \n",
       "...                            ...              ...  \n",
       "1180                          4.24     48115.420780  \n",
       "3441                          4.26     18537.430799  \n",
       "1344                          3.17     23592.157588  \n",
       "4623                          4.25     40877.189120  \n",
       "1289                          4.02     14522.659071  \n",
       "\n",
       "[4500 rows x 5 columns]"
      ]
     },
     "execution_count": 26,
     "metadata": {},
     "output_type": "execute_result"
    }
   ],
   "source": [
    "X_train"
   ]
  },
  {
   "cell_type": "code",
   "execution_count": 27,
   "id": "73365594",
   "metadata": {},
   "outputs": [
    {
     "data": {
      "text/plain": [
       "245     1.118048e+06\n",
       "4493    1.326947e+06\n",
       "4583    1.053485e+06\n",
       "2242    7.590447e+05\n",
       "3407    1.381118e+06\n",
       "            ...     \n",
       "4897    1.169265e+06\n",
       "835     1.538923e+06\n",
       "2713    1.228880e+06\n",
       "4056    1.116680e+06\n",
       "192     1.203248e+06\n",
       "Name: Price, Length: 500, dtype: float64"
      ]
     },
     "execution_count": 27,
     "metadata": {},
     "output_type": "execute_result"
    }
   ],
   "source": [
    "y_test"
   ]
  },
  {
   "cell_type": "code",
   "execution_count": 28,
   "id": "16640647",
   "metadata": {},
   "outputs": [],
   "source": [
    "from sklearn import linear_model"
   ]
  },
  {
   "cell_type": "code",
   "execution_count": 29,
   "id": "0f942d9d",
   "metadata": {},
   "outputs": [],
   "source": [
    "model=linear_model.LinearRegression()"
   ]
  },
  {
   "cell_type": "code",
   "execution_count": 30,
   "id": "1f98966c",
   "metadata": {},
   "outputs": [
    {
     "data": {
      "text/html": [
       "<style>#sk-container-id-2 {color: black;background-color: white;}#sk-container-id-2 pre{padding: 0;}#sk-container-id-2 div.sk-toggleable {background-color: white;}#sk-container-id-2 label.sk-toggleable__label {cursor: pointer;display: block;width: 100%;margin-bottom: 0;padding: 0.3em;box-sizing: border-box;text-align: center;}#sk-container-id-2 label.sk-toggleable__label-arrow:before {content: \"▸\";float: left;margin-right: 0.25em;color: #696969;}#sk-container-id-2 label.sk-toggleable__label-arrow:hover:before {color: black;}#sk-container-id-2 div.sk-estimator:hover label.sk-toggleable__label-arrow:before {color: black;}#sk-container-id-2 div.sk-toggleable__content {max-height: 0;max-width: 0;overflow: hidden;text-align: left;background-color: #f0f8ff;}#sk-container-id-2 div.sk-toggleable__content pre {margin: 0.2em;color: black;border-radius: 0.25em;background-color: #f0f8ff;}#sk-container-id-2 input.sk-toggleable__control:checked~div.sk-toggleable__content {max-height: 200px;max-width: 100%;overflow: auto;}#sk-container-id-2 input.sk-toggleable__control:checked~label.sk-toggleable__label-arrow:before {content: \"▾\";}#sk-container-id-2 div.sk-estimator input.sk-toggleable__control:checked~label.sk-toggleable__label {background-color: #d4ebff;}#sk-container-id-2 div.sk-label input.sk-toggleable__control:checked~label.sk-toggleable__label {background-color: #d4ebff;}#sk-container-id-2 input.sk-hidden--visually {border: 0;clip: rect(1px 1px 1px 1px);clip: rect(1px, 1px, 1px, 1px);height: 1px;margin: -1px;overflow: hidden;padding: 0;position: absolute;width: 1px;}#sk-container-id-2 div.sk-estimator {font-family: monospace;background-color: #f0f8ff;border: 1px dotted black;border-radius: 0.25em;box-sizing: border-box;margin-bottom: 0.5em;}#sk-container-id-2 div.sk-estimator:hover {background-color: #d4ebff;}#sk-container-id-2 div.sk-parallel-item::after {content: \"\";width: 100%;border-bottom: 1px solid gray;flex-grow: 1;}#sk-container-id-2 div.sk-label:hover label.sk-toggleable__label {background-color: #d4ebff;}#sk-container-id-2 div.sk-serial::before {content: \"\";position: absolute;border-left: 1px solid gray;box-sizing: border-box;top: 0;bottom: 0;left: 50%;z-index: 0;}#sk-container-id-2 div.sk-serial {display: flex;flex-direction: column;align-items: center;background-color: white;padding-right: 0.2em;padding-left: 0.2em;position: relative;}#sk-container-id-2 div.sk-item {position: relative;z-index: 1;}#sk-container-id-2 div.sk-parallel {display: flex;align-items: stretch;justify-content: center;background-color: white;position: relative;}#sk-container-id-2 div.sk-item::before, #sk-container-id-2 div.sk-parallel-item::before {content: \"\";position: absolute;border-left: 1px solid gray;box-sizing: border-box;top: 0;bottom: 0;left: 50%;z-index: -1;}#sk-container-id-2 div.sk-parallel-item {display: flex;flex-direction: column;z-index: 1;position: relative;background-color: white;}#sk-container-id-2 div.sk-parallel-item:first-child::after {align-self: flex-end;width: 50%;}#sk-container-id-2 div.sk-parallel-item:last-child::after {align-self: flex-start;width: 50%;}#sk-container-id-2 div.sk-parallel-item:only-child::after {width: 0;}#sk-container-id-2 div.sk-dashed-wrapped {border: 1px dashed gray;margin: 0 0.4em 0.5em 0.4em;box-sizing: border-box;padding-bottom: 0.4em;background-color: white;}#sk-container-id-2 div.sk-label label {font-family: monospace;font-weight: bold;display: inline-block;line-height: 1.2em;}#sk-container-id-2 div.sk-label-container {text-align: center;}#sk-container-id-2 div.sk-container {/* jupyter's `normalize.less` sets `[hidden] { display: none; }` but bootstrap.min.css set `[hidden] { display: none !important; }` so we also need the `!important` here to be able to override the default hidden behavior on the sphinx rendered scikit-learn.org. See: https://github.com/scikit-learn/scikit-learn/issues/21755 */display: inline-block !important;position: relative;}#sk-container-id-2 div.sk-text-repr-fallback {display: none;}</style><div id=\"sk-container-id-2\" class=\"sk-top-container\"><div class=\"sk-text-repr-fallback\"><pre>LinearRegression()</pre><b>In a Jupyter environment, please rerun this cell to show the HTML representation or trust the notebook. <br />On GitHub, the HTML representation is unable to render, please try loading this page with nbviewer.org.</b></div><div class=\"sk-container\" hidden><div class=\"sk-item\"><div class=\"sk-estimator sk-toggleable\"><input class=\"sk-toggleable__control sk-hidden--visually\" id=\"sk-estimator-id-2\" type=\"checkbox\" checked><label for=\"sk-estimator-id-2\" class=\"sk-toggleable__label sk-toggleable__label-arrow\">LinearRegression</label><div class=\"sk-toggleable__content\"><pre>LinearRegression()</pre></div></div></div></div></div>"
      ],
      "text/plain": [
       "LinearRegression()"
      ]
     },
     "execution_count": 30,
     "metadata": {},
     "output_type": "execute_result"
    }
   ],
   "source": [
    "model.fit(X_train,y_train)"
   ]
  },
  {
   "cell_type": "code",
   "execution_count": 31,
   "id": "9b7d4b6b",
   "metadata": {},
   "outputs": [
    {
     "data": {
      "text/plain": [
       "array([1195355.48986965, 1185598.14832844, 1046410.08178059,\n",
       "        828162.86840965, 1484255.39547072,  542462.06591951,\n",
       "       2473741.73992134, 1447999.981508  , 1321906.98744556,\n",
       "       1136575.24554695, 1372355.52912891, 1719361.30512347,\n",
       "       1372092.61584221,  521574.97539476, 1411630.74125014,\n",
       "       1075168.89299706,  959279.88555321, 1124764.7314722 ,\n",
       "       1281572.88043427, 1008797.97541985,  788659.86656033,\n",
       "       1071570.55816932, 1284284.19599936, 1054341.32062038,\n",
       "       1248013.86245374, 1447121.43416387,  377120.75774285,\n",
       "       1275337.28253902, 1204678.7209452 , 1499687.69761606,\n",
       "       1634818.82036249, 1577432.4574992 , 1492733.12595494,\n",
       "        380880.5163198 , 1812779.02954605, 1215014.00891082,\n",
       "       1556128.96038496, 1070974.94314152, 1229938.27886367,\n",
       "       1075852.20493876, 1004822.8635635 , 1787569.79505877,\n",
       "       1035726.07027516, 1435458.212222  ,  834457.74565536,\n",
       "        888499.3439794 , 1134320.43473912,  904860.25045583,\n",
       "       1315182.35514778, 1502282.95653577, 1038993.76925211,\n",
       "       1100293.56616843, 1383204.28736494, 1200069.08637817,\n",
       "       1433604.84653228, 1033235.41159634, 1308100.51847537,\n",
       "       1040952.31225086, 1247175.76424454, 1687754.03386855,\n",
       "       1294743.43602264, 1154580.23922559, 1562985.28089765,\n",
       "       1065926.32168656, 1062776.53210915, 1172105.10892973,\n",
       "       1329071.89954499, 1396572.1238355 ,  914846.80694127,\n",
       "        333572.45863707, 1237461.1149267 , 1510026.51321029,\n",
       "        643741.91175459,  890592.44888487,  561309.08999706,\n",
       "       1412013.49227644,  472619.18029485,  856511.38668208,\n",
       "       2003443.64193675, 1609804.30851568, 1298076.54569384,\n",
       "       1562427.47960118, 1220307.08396402, 1363217.45345389,\n",
       "       1491627.68551585, 1261950.14213024, 1079853.38630157,\n",
       "        758800.7071302 , 1591568.85766263, 1126056.87711874,\n",
       "        862244.72120544, 1308242.46317855,  814430.48100414,\n",
       "       1503445.15226273, 1146019.21525956, 1224133.25971705,\n",
       "       1724534.91618888, 1329202.56366425, 1431146.91632135,\n",
       "       1428075.88169355,  779955.0395523 ,  994735.42850357,\n",
       "       1261189.85674297, 1486275.09354436, 1219014.96843387,\n",
       "        756350.16907543, 1352902.56348929, 1184190.70831144,\n",
       "       1323476.82470877, 1010611.99159241,  999764.38012234,\n",
       "       1776822.95468291, 1427927.04650428, 1270723.54856552,\n",
       "       1412134.39860491,  897582.19857775,  928986.18771258,\n",
       "       1330540.94574575,  731167.10604926, 1108149.44132754,\n",
       "       1016954.42060279,  761987.3994587 , 1217605.97905473,\n",
       "        746601.281218  , 1201566.97553402, 1756445.18012637,\n",
       "       1432976.88235877,  984621.35345067, 1376802.64963759,\n",
       "        609944.26881482, 1034940.18003076, 1734758.70661256,\n",
       "       1361398.61564241, 1382358.4697135 , 1568459.77726731,\n",
       "       1271154.17515326,  884716.23947799, 1039844.30241344,\n",
       "       1103741.32524306, 1118517.08947619, 1489159.14247011,\n",
       "       1127711.55639385, 1645662.2239512 , 1439198.97119438,\n",
       "       1084509.5401222 ,  954758.31429683, 1191530.17294583,\n",
       "       1415216.46327042, 1844317.75720428,  698368.57822693,\n",
       "       1233438.53874362, 1512214.03114371, 1384622.35012029,\n",
       "       1061033.48712914, 1538826.10098963, 1766906.20899337,\n",
       "       1151310.89671761, 1218601.77750884, 1374632.11054892,\n",
       "        966146.57690305, 1346813.45335429, 1062377.58465415,\n",
       "        620244.00328789, 1289351.93887747, 1121904.29035256,\n",
       "        992311.45473921, 1072671.65814103, 1179925.45647667,\n",
       "       1102115.44445216,  627911.32202918, 1494806.28013579,\n",
       "       1216469.38658053, 1114243.12696026,  978532.21576664,\n",
       "       1698835.35213099, 1391293.310622  , 1284504.30570302,\n",
       "        728643.12670936, 1157636.35340541, 1248744.22193201,\n",
       "        490942.81241924,  745544.0885765 , 1203640.50177172,\n",
       "       1292797.81092589, 1251504.18031379,  976730.92887474,\n",
       "        908625.9654112 , 1394253.49385476,  487280.93852564,\n",
       "       1570771.13506109, 1477618.70618204, 1456494.46676372,\n",
       "       1317732.17820425, 1325211.18405132, 1481274.09845938,\n",
       "       1461164.33290733, 1414351.73603255, 1359613.98228126,\n",
       "        527294.28755868, 1059739.59969889, 1289495.28729489,\n",
       "       1823536.64052602, 1420506.43999786, 1793200.43047612,\n",
       "        669560.41771805, 1268816.80481795,  987667.42501696,\n",
       "       1541192.87618065,  467153.93336354, 1769830.67155394,\n",
       "       1424480.06790547, 1683646.0429394 , 1185875.4029305 ,\n",
       "       1110721.44464804, 1212837.2474712 , 1107510.17854572,\n",
       "       1153373.47289609, 1075680.7310906 , 1751461.66911419,\n",
       "        666007.79512908, 1450329.53974652,  821521.59002042,\n",
       "       1350000.02847041, 1550306.27760609, 1162770.17498023,\n",
       "       1274893.13128048, 2045525.96133751, 1244524.31560593,\n",
       "       1084190.95720617,  969319.49873855, 1372671.78884887,\n",
       "       1539077.07572737, 1230317.8225883 ,  801011.49664768,\n",
       "        681542.37772949,  952368.6289047 , 1841401.94227841,\n",
       "       1721818.50453019, 1117352.68978453, 1691030.6501972 ,\n",
       "        992820.63065708, 1228644.71156508, 1267345.51559472,\n",
       "       1230406.60915048,  894005.96551121, 1173131.79297376,\n",
       "        846872.09090229,  720974.67468668, 1531628.00596947,\n",
       "       1558575.95487009,  952264.32499253,  856012.32079275,\n",
       "       1170624.29899604, 1024372.23552706, 1635438.57178087,\n",
       "       1913637.54329223, 1284697.25285844, 1364276.93506732,\n",
       "        855560.32036446, 1508457.88090896, 1448462.3385945 ,\n",
       "       1048276.98358   , 1481581.80260374, 1461107.58765073,\n",
       "       1233436.39999501, 1336235.3778512 , 1327265.82542866,\n",
       "        878210.83764882, 1660856.4855917 ,  871448.73301837,\n",
       "       1124093.95555991, 1579559.69763599, 1412827.04542096,\n",
       "       1354430.56510179,  769530.34403695,  751664.54255541,\n",
       "       1351254.65708877, 1490019.21159016, 1139357.26406775,\n",
       "        897111.85832489,  926216.38103103, 1776913.86779365,\n",
       "       1584459.94901842, 1035938.81443384, 1585333.69075679,\n",
       "        874167.58719567, 1625463.82149617, 1448190.42799763,\n",
       "       1435845.87192088,  717010.93300829, 1277603.31859362,\n",
       "       1879990.84679512, 1116652.6199573 , 1096400.36062762,\n",
       "       1214015.64633536, 1529512.58025677, 1565136.98863892,\n",
       "        752730.98374216,  504884.4777783 , 1045007.97234979,\n",
       "       1258316.40785701,  785245.18245528, 1092695.13731377,\n",
       "        892033.15540386, 1383075.93128417,  829936.40294944,\n",
       "       1185841.75826206,  802956.44608004,  488340.8612704 ,\n",
       "       1218054.31902396,  723165.7928165 ,  566474.65179462,\n",
       "       1408547.46719117, 1234412.90787691, 1093461.03644102,\n",
       "       1605858.19242616, 1791188.10619182, 1571998.97998106,\n",
       "       1729689.56285349,  784258.67994685, 1060675.35024267,\n",
       "       1637756.85443067, 1102589.31273062,  792439.51316056,\n",
       "       1117825.40077551, 1622099.5863231 , 1463142.01626545,\n",
       "       1705427.09814375, 1697319.96717685, 1506928.755457  ,\n",
       "       1290980.67369739,  950309.61825823, 1039451.23395178,\n",
       "       1283441.45275013, 1311361.72135904, 1183094.99913403,\n",
       "       1323755.91446658, 1785921.43851888,  961749.47961719,\n",
       "        692538.69324381, 1441995.65112417, 1674522.97738254,\n",
       "       1761153.12453411,  766348.33307054, 1792033.69827553,\n",
       "       1408993.21298943,  974908.16656164,  769184.33490831,\n",
       "       1174146.90312834, 1523300.58289237, 1937618.47178313,\n",
       "       1105354.83911366, 1450031.76668509, 1252852.09587615,\n",
       "       1402440.48513304, 1406255.68214801, 1147203.84690322,\n",
       "        703890.77146792, 1339442.73099713, 1092650.50580063,\n",
       "       1147143.03115149, 1155425.41067345, 1805611.79252818,\n",
       "       1428021.80745173, 1522559.87571114,  373598.44435047,\n",
       "       1408658.20175615, 1331121.29890928, 1412502.16312097,\n",
       "       1115236.59840783, 1187050.83093988, 1504549.98190307,\n",
       "       1899933.18453075, 1820785.17116289,  847232.48888336,\n",
       "       1139156.55577157,  802921.29618837,  786083.49747822,\n",
       "       1664350.68360525,  967027.68720382,  932740.550837  ,\n",
       "       1557234.19959087, 1667073.35284244, 1250981.32132049,\n",
       "        789458.02975964,  733444.28411085, 1362887.85601938,\n",
       "        408781.92080153, 1317862.67464689,  846492.04267701,\n",
       "       1069337.28160252, 1393085.95265573,  788942.03866575,\n",
       "        886216.20616448, 1132732.24890677, 1417018.01452613,\n",
       "       1231929.2204697 ,  910799.43036088, 1276429.94587417,\n",
       "        883778.99487156, 1825947.66059275, 1335730.42674436,\n",
       "       1726669.19570591, 1327508.5783358 , 1913704.13611073,\n",
       "        929715.92932532, 1463279.18386608,  886076.85877923,\n",
       "       1476786.8909595 , 1667308.88668537, 1292764.05490926,\n",
       "       1614549.37835864, 1371376.45189363, 1736003.67248227,\n",
       "       1691290.35188312,  858916.89470204, 1224989.7435029 ,\n",
       "        802912.53317562, 1430336.03030501, 1165989.22143918,\n",
       "       1315236.09799124, 1092532.29455139,  871194.98200574,\n",
       "       1009483.94420097, 1279684.54613883, 1735046.04622671,\n",
       "       1040985.54789625,  638247.50340367, 1386900.16518092,\n",
       "       2198975.88593803, 1081071.40882943, 1577860.63690778,\n",
       "       1313947.85563636, 1098320.89031125, 1197628.85143683,\n",
       "       1229997.59400545, 1476215.79807996, 1366058.48245232,\n",
       "       1528570.57701902, 1278659.95739584, 1232695.68172328,\n",
       "       1047069.4015167 , 1491743.86725334, 1097151.72563078,\n",
       "       1583893.33176195, 1061505.59351526,  987354.20549609,\n",
       "       1460283.50137254,  966527.50348927, 1615010.62480088,\n",
       "        443863.40809225,  958763.60397386, 1603511.04177867,\n",
       "        667022.72125867,  748540.46614921, 1580553.68147998,\n",
       "       1225744.89915633, 1227322.52596295,  984095.43796909,\n",
       "       1340040.1167688 , 1396645.09900451, 1508909.4511867 ,\n",
       "       1434643.21138554,  992320.8599335 , 1321149.60865603,\n",
       "       1770625.19779774, 1776204.04959466, 1322526.09771765,\n",
       "       1305642.50815067,  843922.34030333, 1300595.10600484,\n",
       "       1140500.10942525, 1142547.56387284, 1579095.59511164,\n",
       "        610851.01254411,  624983.31280034,  912322.2178283 ,\n",
       "       1552790.91730271,  934931.21665284, 1737975.71855825,\n",
       "       1576471.2044991 ,  951124.9052156 ,  929638.4199836 ,\n",
       "        860480.04850183, 1006040.69702953, 1354664.47811642,\n",
       "        875660.79286053, 1000953.73318477, 1563035.63570319,\n",
       "       1358583.13853433, 1664671.77726003, 1319976.40772369,\n",
       "        826842.19623991, 1448348.52866417, 1180813.82407876,\n",
       "       1108547.61454448, 1536039.98165219, 1258967.30404651,\n",
       "       1288080.06983009, 1181721.20739371])"
      ]
     },
     "execution_count": 31,
     "metadata": {},
     "output_type": "execute_result"
    }
   ],
   "source": [
    "model.predict(X_test)"
   ]
  },
  {
   "cell_type": "code",
   "execution_count": 39,
   "id": "9fac26b6",
   "metadata": {},
   "outputs": [
    {
     "ename": "TypeError",
     "evalue": "'str' object is not callable",
     "output_type": "error",
     "traceback": [
      "\u001b[0;31m---------------------------------------------------------------------------\u001b[0m",
      "\u001b[0;31mTypeError\u001b[0m                                 Traceback (most recent call last)",
      "Cell \u001b[0;32mIn[39], line 1\u001b[0m\n\u001b[0;32m----> 1\u001b[0m \u001b[39mstr\u001b[39m\u001b[39m=\u001b[39m\u001b[39mstr\u001b[39;49m(model\u001b[39m.\u001b[39;49mscore(X_test,y_test)\u001b[39m*\u001b[39;49m\u001b[39m100\u001b[39;49m)\u001b[39m+\u001b[39m\u001b[39m'\u001b[39m\u001b[39m%\u001b[39m\u001b[39m'\u001b[39m\n",
      "\u001b[0;31mTypeError\u001b[0m: 'str' object is not callable"
     ]
    }
   ],
   "source": [
    "str=str(model.score(X_test,y_test)*100)+'%'"
   ]
  },
  {
   "cell_type": "code",
   "execution_count": 40,
   "id": "3ee118fa",
   "metadata": {},
   "outputs": [
    {
     "name": "stdout",
     "output_type": "stream",
     "text": [
      "The model is 91.97421958339257% accurate.\n"
     ]
    }
   ],
   "source": [
    "print(f'The model is {str} accurate.')"
   ]
  },
  {
   "cell_type": "code",
   "execution_count": null,
   "id": "2bbe537e",
   "metadata": {},
   "outputs": [],
   "source": []
  }
 ],
 "metadata": {
  "kernelspec": {
   "display_name": "Python 3 (ipykernel)",
   "language": "python",
   "name": "python3"
  }
 },
 "nbformat": 4,
 "nbformat_minor": 5
}
