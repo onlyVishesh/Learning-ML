{
 "cells": [
  {
   "cell_type": "markdown",
   "id": "1169c585",
   "metadata": {},
   "source": [
    "# Array using Numpy"
   ]
  },
  {
   "cell_type": "code",
   "execution_count": 1,
   "id": "152a6032",
   "metadata": {},
   "outputs": [],
   "source": [
    "import numpy as np"
   ]
  },
  {
   "cell_type": "code",
   "execution_count": 2,
   "id": "39e04fc5",
   "metadata": {},
   "outputs": [
    {
     "name": "stdout",
     "output_type": "stream",
     "text": [
      "[1 2 3 4 5 6 7 8]\n"
     ]
    }
   ],
   "source": [
    "# Array with specific datatype --> np.array([values],dtype=\"s\")\n",
    "array1 = np.array([1,2,3,4,5,6,7,8])\n",
    "print(array1)"
   ]
  },
  {
   "cell_type": "code",
   "execution_count": 3,
   "id": "5c13fc17",
   "metadata": {},
   "outputs": [
    {
     "name": "stdout",
     "output_type": "stream",
     "text": [
      "[10 12 14 16 18 20 22 24 26 28 30]\n"
     ]
    }
   ],
   "source": [
    "# Array of specific range\n",
    "arr = np.arange(10,31,2)\n",
    "print(arr)\n"
   ]
  },
  {
   "cell_type": "code",
   "execution_count": 4,
   "id": "f5d75331",
   "metadata": {},
   "outputs": [
    {
     "name": "stdout",
     "output_type": "stream",
     "text": [
      "2.8735532760620117\n",
      "0.015629053115844727\n",
      "183.85971656522204\n"
     ]
    }
   ],
   "source": [
    "import time\n",
    "\n",
    "# method 1\n",
    "list1 = [i for i in range(10000000)]\n",
    "list2 = [i for i in range(10000000,20000000)]\n",
    "list3 = []\n",
    "start = time.time()\n",
    "for i in range(len(list1)):\n",
    "    list3.append(list1[i]+list2[i])\n",
    "t1 = time.time()-start\n",
    "print(t1)\n",
    "\n",
    "# method 2\n",
    "arr1 = np.arange(10000000)\n",
    "arr2 = np.arange(10000000,20000000)\n",
    "start = time.time()\n",
    "arr3 = arr1+arr2\n",
    "t2 = time.time()-start\n",
    "print(t2)\n",
    "efficiency = t1/t2\n",
    "print(efficiency)"
   ]
  },
  {
   "cell_type": "markdown",
   "id": "18e9a8ef",
   "metadata": {},
   "source": [
    "## Numpy functions"
   ]
  },
  {
   "cell_type": "markdown",
   "id": "2d9d4ab8",
   "metadata": {},
   "source": [
    "##### Append"
   ]
  },
  {
   "cell_type": "code",
   "execution_count": 5,
   "id": "6c029b80",
   "metadata": {},
   "outputs": [
    {
     "name": "stdout",
     "output_type": "stream",
     "text": [
      "[10 12 14 16 18 20 22 24 26 28 30 99]\n"
     ]
    }
   ],
   "source": [
    "# On pressing shift+tab we get all info regarding that function\n",
    "# np.append(array,value)\n",
    "arr = np.append(arr,99)\n",
    "print(arr)\n",
    "\n"
   ]
  },
  {
   "cell_type": "markdown",
   "id": "c795dd5f",
   "metadata": {},
   "source": [
    "##### Insert"
   ]
  },
  {
   "cell_type": "code",
   "execution_count": 6,
   "id": "26219b45",
   "metadata": {},
   "outputs": [
    {
     "name": "stdout",
     "output_type": "stream",
     "text": [
      "[10 12 14 16 18 67 20 22 24 26 28 30 99]\n"
     ]
    }
   ],
   "source": [
    "# np.insert(array,index,value)\n",
    "arr = np.insert(arr,5,67)\n",
    "print(arr)"
   ]
  },
  {
   "cell_type": "markdown",
   "id": "68373ef9",
   "metadata": {},
   "source": [
    "##### Delete"
   ]
  },
  {
   "cell_type": "code",
   "execution_count": 7,
   "id": "d56ebbad",
   "metadata": {},
   "outputs": [
    {
     "name": "stdout",
     "output_type": "stream",
     "text": [
      "[10 12 14 16 18 67 20 24 26 28 30 99]\n"
     ]
    }
   ],
   "source": [
    "# np.delete(array,index)\n",
    "arr = np.delete(arr,7)\n",
    "print(arr)"
   ]
  },
  {
   "cell_type": "markdown",
   "id": "1491a635",
   "metadata": {},
   "source": [
    "## 2 D Array (matrix)"
   ]
  },
  {
   "cell_type": "code",
   "execution_count": 8,
   "id": "cb76d248",
   "metadata": {},
   "outputs": [
    {
     "name": "stdout",
     "output_type": "stream",
     "text": [
      "[[1 2 3]\n",
      " [4 5 6]\n",
      " [7 8 9]]\n"
     ]
    }
   ],
   "source": [
    "mat = np.array([[1,2,3],[4,5,6],[7,8,9]])\n",
    "print(mat)"
   ]
  },
  {
   "cell_type": "markdown",
   "id": "ad15e343",
   "metadata": {},
   "source": [
    "##### Traversing 2D array"
   ]
  },
  {
   "cell_type": "code",
   "execution_count": 9,
   "id": "77816242",
   "metadata": {},
   "outputs": [
    {
     "name": "stdout",
     "output_type": "stream",
     "text": [
      "2\n"
     ]
    }
   ],
   "source": [
    "# array[row index,column index]\n",
    "print(mat[0,1])"
   ]
  },
  {
   "cell_type": "markdown",
   "id": "d04b40cf",
   "metadata": {},
   "source": [
    "## 3D Array"
   ]
  },
  {
   "cell_type": "code",
   "execution_count": 10,
   "id": "8a57fd88",
   "metadata": {},
   "outputs": [
    {
     "name": "stdout",
     "output_type": "stream",
     "text": [
      "[[[ 1  2  3  4]\n",
      "  [ 5  6  7  8]]\n",
      "\n",
      " [[ 9 10 11 12]\n",
      "  [13 14 15 16]]]\n",
      "11\n"
     ]
    }
   ],
   "source": [
    "mat3d = np.array([[[1,2,3,4],[5,6,7,8]],[[9,10,11,12],[13,14,15,16]]])\n",
    "print(mat3d)\n",
    "print(mat3d[1,0,2])"
   ]
  },
  {
   "cell_type": "code",
   "execution_count": null,
   "id": "5b8802fb",
   "metadata": {},
   "outputs": [],
   "source": []
  }
 ],
 "metadata": {
  "kernelspec": {
   "display_name": "Python 3 (ipykernel)",
   "language": "python",
   "name": "python3"
  },
  "language_info": {
   "codemirror_mode": {
    "name": "ipython",
    "version": 3
   },
   "file_extension": ".py",
   "mimetype": "text/x-python",
   "name": "python",
   "nbconvert_exporter": "python",
   "pygments_lexer": "ipython3",
   "version": "3.9.13"
  }
 },
 "nbformat": 4,
 "nbformat_minor": 5
}
